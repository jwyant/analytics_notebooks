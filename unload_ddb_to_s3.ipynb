{
 "cells": [
  {
   "cell_type": "code",
   "execution_count": 1,
   "metadata": {},
   "outputs": [
    {
     "data": {
      "text/html": [
       "Current session configs: <tt>{'conf': {'spark.jars.packages': 'com.audienceproject:spark-dynamodb_2.11:1.0.4'}, 'kind': 'pyspark'}</tt><br>"
      ],
      "text/plain": [
       "<IPython.core.display.HTML object>"
      ]
     },
     "metadata": {},
     "output_type": "display_data"
    },
    {
     "data": {
      "text/html": [
       "<table>\n",
       "<tr><th>ID</th><th>YARN Application ID</th><th>Kind</th><th>State</th><th>Spark UI</th><th>Driver log</th><th>Current session?</th></tr><tr><td>10</td><td>application_1588708823081_0010</td><td>pyspark</td><td>idle</td><td><a target=\"_blank\" href=\"http://ip-10-0-1-199.ec2.internal:20888/proxy/application_1588708823081_0010/\">Link</a></td><td><a target=\"_blank\" href=\"http://ip-10-0-0-94.ec2.internal:8042/node/containerlogs/container_1588708823081_0010_01_000001/livy\">Link</a></td><td></td></tr><tr><td>13</td><td>application_1588708823081_0013</td><td>pyspark</td><td>busy</td><td><a target=\"_blank\" href=\"http://ip-10-0-1-199.ec2.internal:20888/proxy/application_1588708823081_0013/\">Link</a></td><td><a target=\"_blank\" href=\"http://ip-10-0-0-94.ec2.internal:8042/node/containerlogs/container_1588708823081_0013_01_000001/livy\">Link</a></td><td></td></tr></table>"
      ],
      "text/plain": [
       "<IPython.core.display.HTML object>"
      ]
     },
     "metadata": {},
     "output_type": "display_data"
    }
   ],
   "source": [
    "%%configure -f \n",
    "{\n",
    "    \"conf\": {\n",
    "                \"spark.jars.packages\":\"com.audienceproject:spark-dynamodb_2.11:1.0.4\"\n",
    "            }\n",
    "}"
   ]
  },
  {
   "cell_type": "code",
   "execution_count": 2,
   "metadata": {},
   "outputs": [
    {
     "data": {
      "application/vnd.jupyter.widget-view+json": {
       "model_id": "4faf7a2b39dc430ea74106fabab2a61f",
       "version_major": 2,
       "version_minor": 0
      },
      "text/plain": [
       "VBox()"
      ]
     },
     "metadata": {},
     "output_type": "display_data"
    },
    {
     "name": "stdout",
     "output_type": "stream",
     "text": [
      "Starting Spark application\n"
     ]
    },
    {
     "data": {
      "text/html": [
       "<table>\n",
       "<tr><th>ID</th><th>YARN Application ID</th><th>Kind</th><th>State</th><th>Spark UI</th><th>Driver log</th><th>Current session?</th></tr><tr><td>14</td><td>application_1588708823081_0014</td><td>pyspark</td><td>idle</td><td><a target=\"_blank\" href=\"http://ip-10-0-1-199.ec2.internal:20888/proxy/application_1588708823081_0014/\">Link</a></td><td><a target=\"_blank\" href=\"http://ip-10-0-0-94.ec2.internal:8042/node/containerlogs/container_1588708823081_0014_01_000001/livy\">Link</a></td><td>✔</td></tr></table>"
      ],
      "text/plain": [
       "<IPython.core.display.HTML object>"
      ]
     },
     "metadata": {},
     "output_type": "display_data"
    },
    {
     "data": {
      "application/vnd.jupyter.widget-view+json": {
       "model_id": "",
       "version_major": 2,
       "version_minor": 0
      },
      "text/plain": [
       "FloatProgress(value=0.0, bar_style='info', description='Progress:', layout=Layout(height='25px', width='50%'),…"
      ]
     },
     "metadata": {},
     "output_type": "display_data"
    },
    {
     "name": "stdout",
     "output_type": "stream",
     "text": [
      "SparkSession available as 'spark'.\n"
     ]
    },
    {
     "data": {
      "application/vnd.jupyter.widget-view+json": {
       "model_id": "",
       "version_major": 2,
       "version_minor": 0
      },
      "text/plain": [
       "FloatProgress(value=0.0, bar_style='info', description='Progress:', layout=Layout(height='25px', width='50%'),…"
      ]
     },
     "metadata": {},
     "output_type": "display_data"
    }
   ],
   "source": [
    "df_from_ddb = spark.read.option('tableName', 'store_sales').format('dynamodb').load()"
   ]
  },
  {
   "cell_type": "code",
   "execution_count": 3,
   "metadata": {},
   "outputs": [
    {
     "data": {
      "application/vnd.jupyter.widget-view+json": {
       "model_id": "8f5416339275437ab962c9331a0ff021",
       "version_major": 2,
       "version_minor": 0
      },
      "text/plain": [
       "VBox()"
      ]
     },
     "metadata": {},
     "output_type": "display_data"
    },
    {
     "data": {
      "application/vnd.jupyter.widget-view+json": {
       "model_id": "",
       "version_major": 2,
       "version_minor": 0
      },
      "text/plain": [
       "FloatProgress(value=0.0, bar_style='info', description='Progress:', layout=Layout(height='25px', width='50%'),…"
      ]
     },
     "metadata": {},
     "output_type": "display_data"
    },
    {
     "name": "stdout",
     "output_type": "stream",
     "text": [
      "root\n",
      " |-- ss_quantity: integer (nullable = true)\n",
      " |-- ss_item: struct (nullable = true)\n",
      " |    |-- i_item_desc: string (nullable = true)\n",
      " |    |-- i_container: string (nullable = true)\n",
      " |    |-- i_manufact_id: integer (nullable = true)\n",
      " |    |-- i_wholesale_cost: double (nullable = true)\n",
      " |    |-- i_formulation: string (nullable = true)\n",
      " |    |-- i_brand_id: integer (nullable = true)\n",
      " |    |-- i_current_price: double (nullable = true)\n",
      " |    |-- i_size: string (nullable = true)\n",
      " |    |-- i_rec_start_date: long (nullable = true)\n",
      " |    |-- i_manufact: string (nullable = true)\n",
      " |    |-- i_manager_id: integer (nullable = true)\n",
      " |    |-- i_item_id: string (nullable = true)\n",
      " |    |-- i_class: string (nullable = true)\n",
      " |    |-- i_class_id: integer (nullable = true)\n",
      " |    |-- i_category: string (nullable = true)\n",
      " |    |-- i_category_id: integer (nullable = true)\n",
      " |    |-- i_brand: string (nullable = true)\n",
      " |    |-- i_units: string (nullable = true)\n",
      " |    |-- i_rec_end_date: string (nullable = true)\n",
      " |    |-- i_product_name: string (nullable = true)\n",
      " |    |-- i_color: string (nullable = true)\n",
      " |-- ss_wholesale_cost: double (nullable = true)\n",
      " |-- ss_net_paid: double (nullable = true)\n",
      " |-- ss_net_profit: double (nullable = true)\n",
      " |-- ss_sold_date_sk_ss_ticket_number: string (nullable = true)\n",
      " |-- ss_net_paid_inc_tax: double (nullable = true)\n",
      " |-- ss_date_dim: struct (nullable = true)\n",
      " |    |-- d_quarter_seq: integer (nullable = true)\n",
      " |    |-- d_last_dom: integer (nullable = true)\n",
      " |    |-- d_dom: integer (nullable = true)\n",
      " |    |-- d_current_day: string (nullable = true)\n",
      " |    |-- d_week_seq: integer (nullable = true)\n",
      " |    |-- d_current_month: string (nullable = true)\n",
      " |    |-- d_first_dom: integer (nullable = true)\n",
      " |    |-- d_moy: integer (nullable = true)\n",
      " |    |-- d_dow: integer (nullable = true)\n",
      " |    |-- d_holiday: string (nullable = true)\n",
      " |    |-- d_current_quarter: string (nullable = true)\n",
      " |    |-- d_following_holiday: string (nullable = true)\n",
      " |    |-- d_date_id: string (nullable = true)\n",
      " |    |-- d_current_week: string (nullable = true)\n",
      " |    |-- d_fy_week_seq: integer (nullable = true)\n",
      " |    |-- d_day_name: string (nullable = true)\n",
      " |    |-- d_same_day_ly: integer (nullable = true)\n",
      " |    |-- d_date: long (nullable = true)\n",
      " |    |-- d_weekend: string (nullable = true)\n",
      " |    |-- d_month_seq: integer (nullable = true)\n",
      " |    |-- d_quarter_name: string (nullable = true)\n",
      " |    |-- d_current_year: string (nullable = true)\n",
      " |    |-- d_fy_quarter_seq: integer (nullable = true)\n",
      " |    |-- d_same_day_lq: integer (nullable = true)\n",
      " |    |-- d_qoy: integer (nullable = true)\n",
      " |    |-- d_year: integer (nullable = true)\n",
      " |    |-- d_fy_year: integer (nullable = true)\n",
      " |-- ss_sales_price: double (nullable = true)\n",
      " |-- ss_ticket_number: long (nullable = true)\n",
      " |-- ss_household_demographics: struct (nullable = true)\n",
      " |    |-- hd_buy_potential: string (nullable = true)\n",
      " |    |-- hd_income_band_sk: integer (nullable = true)\n",
      " |    |-- hd_income_band: struct (nullable = true)\n",
      " |    |    |-- ib_lower_bound: integer (nullable = true)\n",
      " |    |    |-- ib_upper_bound: integer (nullable = true)\n",
      " |    |-- hd_dep_count: integer (nullable = true)\n",
      " |    |-- hd_vehicle_count: integer (nullable = true)\n",
      " |-- ss_ext_wholesale_cost: double (nullable = true)\n",
      " |-- ss_cdemo_sk: integer (nullable = true)\n",
      " |-- ss_promo_sk: integer (nullable = true)\n",
      " |-- ss_sold_date_sk: integer (nullable = true)\n",
      " |-- ss_ext_sales_price: double (nullable = true)\n",
      " |-- ss_sold_time_sk: integer (nullable = true)\n",
      " |-- ss_customer_sk: integer (nullable = true)\n",
      " |-- ss_list_price: double (nullable = true)\n",
      " |-- ss_store_sk: integer (nullable = true)\n",
      " |-- ss_time_dim: struct (nullable = true)\n",
      " |    |-- t_hour: integer (nullable = true)\n",
      " |    |-- t_time_id: string (nullable = true)\n",
      " |    |-- t_shift: string (nullable = true)\n",
      " |    |-- t_sub_shift: string (nullable = true)\n",
      " |    |-- t_meal_time: string (nullable = true)\n",
      " |    |-- t_time: integer (nullable = true)\n",
      " |    |-- t_minute: integer (nullable = true)\n",
      " |    |-- t_am_pm: string (nullable = true)\n",
      " |    |-- t_second: integer (nullable = true)\n",
      " |-- ss_store: struct (nullable = true)\n",
      " |    |-- s_geography_class: string (nullable = true)\n",
      " |    |-- s_company_id: integer (nullable = true)\n",
      " |    |-- s_closed_date_sk: integer (nullable = true)\n",
      " |    |-- s_county: string (nullable = true)\n",
      " |    |-- s_city: string (nullable = true)\n",
      " |    |-- s_division_name: string (nullable = true)\n",
      " |    |-- s_zip: string (nullable = true)\n",
      " |    |-- s_state: string (nullable = true)\n",
      " |    |-- s_rec_end_date: string (nullable = true)\n",
      " |    |-- s_floor_space: integer (nullable = true)\n",
      " |    |-- s_number_employees: integer (nullable = true)\n",
      " |    |-- s_tax_precentage: double (nullable = true)\n",
      " |    |-- s_street_number: string (nullable = true)\n",
      " |    |-- s_company_name: string (nullable = true)\n",
      " |    |-- s_market_id: integer (nullable = true)\n",
      " |    |-- s_rec_start_date: long (nullable = true)\n",
      " |    |-- s_suite_number: string (nullable = true)\n",
      " |    |-- s_store_name: string (nullable = true)\n",
      " |    |-- s_street_name: string (nullable = true)\n",
      " |    |-- s_market_desc: string (nullable = true)\n",
      " |    |-- s_division_id: integer (nullable = true)\n",
      " |    |-- s_country: string (nullable = true)\n",
      " |    |-- s_hours: string (nullable = true)\n",
      " |    |-- s_manager: string (nullable = true)\n",
      " |    |-- s_market_manager: string (nullable = true)\n",
      " |    |-- s_closed_date: struct (nullable = true)\n",
      " |    |    |-- d_quarter_seq: integer (nullable = true)\n",
      " |    |    |-- d_last_dom: integer (nullable = true)\n",
      " |    |    |-- d_dom: integer (nullable = true)\n",
      " |    |    |-- d_current_day: string (nullable = true)\n",
      " |    |    |-- d_week_seq: integer (nullable = true)\n",
      " |    |    |-- d_current_month: string (nullable = true)\n",
      " |    |    |-- d_first_dom: integer (nullable = true)\n",
      " |    |    |-- d_moy: integer (nullable = true)\n",
      " |    |    |-- d_dow: integer (nullable = true)\n",
      " |    |    |-- d_holiday: string (nullable = true)\n",
      " |    |    |-- d_current_quarter: string (nullable = true)\n",
      " |    |    |-- d_following_holiday: string (nullable = true)\n",
      " |    |    |-- d_date_id: string (nullable = true)\n",
      " |    |    |-- d_current_week: string (nullable = true)\n",
      " |    |    |-- d_fy_week_seq: integer (nullable = true)\n",
      " |    |    |-- d_day_name: string (nullable = true)\n",
      " |    |    |-- d_same_day_ly: integer (nullable = true)\n",
      " |    |    |-- d_date: long (nullable = true)\n",
      " |    |    |-- d_weekend: string (nullable = true)\n",
      " |    |    |-- d_month_seq: integer (nullable = true)\n",
      " |    |    |-- d_quarter_name: string (nullable = true)\n",
      " |    |    |-- d_current_year: string (nullable = true)\n",
      " |    |    |-- d_fy_quarter_seq: integer (nullable = true)\n",
      " |    |    |-- d_same_day_lq: integer (nullable = true)\n",
      " |    |    |-- d_qoy: integer (nullable = true)\n",
      " |    |    |-- d_year: integer (nullable = true)\n",
      " |    |    |-- d_fy_year: integer (nullable = true)\n",
      " |    |-- s_store_id: string (nullable = true)\n",
      " |    |-- s_gmt_offset: integer (nullable = true)\n",
      " |    |-- s_street_type: string (nullable = true)\n",
      " |-- ss_item_sk: integer (nullable = true)\n",
      " |-- ss_addr_sk: integer (nullable = true)\n",
      " |-- ss_ext_discount_amt: integer (nullable = true)\n",
      " |-- ss_customer_demographics: struct (nullable = true)\n",
      " |    |-- cd_dep_employed_count: integer (nullable = true)\n",
      " |    |-- cd_education_status: string (nullable = true)\n",
      " |    |-- cd_credit_rating: string (nullable = true)\n",
      " |    |-- cd_dep_count: integer (nullable = true)\n",
      " |    |-- cd_purchase_estimate: integer (nullable = true)\n",
      " |    |-- cd_dep_college_count: integer (nullable = true)\n",
      " |    |-- cd_marital_status: string (nullable = true)\n",
      " |    |-- cd_gender: string (nullable = true)\n",
      " |-- ss_coupon_amt: integer (nullable = true)\n",
      " |-- ss_promotion: struct (nullable = true)\n",
      " |    |-- p_start_date_sk: integer (nullable = true)\n",
      " |    |-- p_channel_catalog: string (nullable = true)\n",
      " |    |-- p_channel_demo: string (nullable = true)\n",
      " |    |-- p_channel_email: string (nullable = true)\n",
      " |    |-- p_item: struct (nullable = true)\n",
      " |    |    |-- i_item_desc: string (nullable = true)\n",
      " |    |    |-- i_container: string (nullable = true)\n",
      " |    |    |-- i_manufact_id: integer (nullable = true)\n",
      " |    |    |-- i_wholesale_cost: double (nullable = true)\n",
      " |    |    |-- i_formulation: string (nullable = true)\n",
      " |    |    |-- i_brand_id: integer (nullable = true)\n",
      " |    |    |-- i_current_price: double (nullable = true)\n",
      " |    |    |-- i_size: string (nullable = true)\n",
      " |    |    |-- i_rec_start_date: long (nullable = true)\n",
      " |    |    |-- i_manufact: string (nullable = true)\n",
      " |    |    |-- i_manager_id: integer (nullable = true)\n",
      " |    |    |-- i_item_id: string (nullable = true)\n",
      " |    |    |-- i_class: string (nullable = true)\n",
      " |    |    |-- i_class_id: integer (nullable = true)\n",
      " |    |    |-- i_category: string (nullable = true)\n",
      " |    |    |-- i_category_id: integer (nullable = true)\n",
      " |    |    |-- i_brand: string (nullable = true)\n",
      " |    |    |-- i_units: string (nullable = true)\n",
      " |    |    |-- i_rec_end_date: long (nullable = true)\n",
      " |    |    |-- i_product_name: string (nullable = true)\n",
      " |    |    |-- i_color: string (nullable = true)\n",
      " |    |-- p_channel_press: string (nullable = true)\n",
      " |    |-- p_end_date_sk: integer (nullable = true)\n",
      " |    |-- p_discount_active: string (nullable = true)\n",
      " |    |-- p_channel_tv: string (nullable = true)\n",
      " |    |-- p_start_date: struct (nullable = true)\n",
      " |    |    |-- d_quarter_seq: integer (nullable = true)\n",
      " |    |    |-- d_last_dom: integer (nullable = true)\n",
      " |    |    |-- d_dom: integer (nullable = true)\n",
      " |    |    |-- d_current_day: string (nullable = true)\n",
      " |    |    |-- d_week_seq: integer (nullable = true)\n",
      " |    |    |-- d_current_month: string (nullable = true)\n",
      " |    |    |-- d_first_dom: integer (nullable = true)\n",
      " |    |    |-- d_moy: integer (nullable = true)\n",
      " |    |    |-- d_dow: integer (nullable = true)\n",
      " |    |    |-- d_holiday: string (nullable = true)\n",
      " |    |    |-- d_current_quarter: string (nullable = true)\n",
      " |    |    |-- d_following_holiday: string (nullable = true)\n",
      " |    |    |-- d_date_id: string (nullable = true)\n",
      " |    |    |-- d_current_week: string (nullable = true)\n",
      " |    |    |-- d_fy_week_seq: integer (nullable = true)\n",
      " |    |    |-- d_day_name: string (nullable = true)\n",
      " |    |    |-- d_same_day_ly: integer (nullable = true)\n",
      " |    |    |-- d_date: long (nullable = true)\n",
      " |    |    |-- d_weekend: string (nullable = true)\n",
      " |    |    |-- d_month_seq: integer (nullable = true)\n",
      " |    |    |-- d_quarter_name: string (nullable = true)\n",
      " |    |    |-- d_current_year: string (nullable = true)\n",
      " |    |    |-- d_fy_quarter_seq: integer (nullable = true)\n",
      " |    |    |-- d_same_day_lq: integer (nullable = true)\n",
      " |    |    |-- d_qoy: integer (nullable = true)\n",
      " |    |    |-- d_year: integer (nullable = true)\n",
      " |    |    |-- d_fy_year: integer (nullable = true)\n",
      " |    |-- p_channel_details: string (nullable = true)\n",
      " |    |-- p_purpose: string (nullable = true)\n",
      " |    |-- p_promo_id: string (nullable = true)\n",
      " |    |-- p_cost: integer (nullable = true)\n",
      " |    |-- p_channel_event: string (nullable = true)\n",
      " |    |-- p_item_sk: integer (nullable = true)\n",
      " |    |-- p_response_target: integer (nullable = true)\n",
      " |    |-- p_end_date: struct (nullable = true)\n",
      " |    |    |-- d_quarter_seq: integer (nullable = true)\n",
      " |    |    |-- d_last_dom: integer (nullable = true)\n",
      " |    |    |-- d_dom: integer (nullable = true)\n",
      " |    |    |-- d_current_day: string (nullable = true)\n",
      " |    |    |-- d_week_seq: integer (nullable = true)\n",
      " |    |    |-- d_current_month: string (nullable = true)\n",
      " |    |    |-- d_first_dom: integer (nullable = true)\n",
      " |    |    |-- d_moy: integer (nullable = true)\n",
      " |    |    |-- d_dow: integer (nullable = true)\n",
      " |    |    |-- d_holiday: string (nullable = true)\n",
      " |    |    |-- d_current_quarter: string (nullable = true)\n",
      " |    |    |-- d_following_holiday: string (nullable = true)\n",
      " |    |    |-- d_date_id: string (nullable = true)\n",
      " |    |    |-- d_current_week: string (nullable = true)\n",
      " |    |    |-- d_fy_week_seq: integer (nullable = true)\n",
      " |    |    |-- d_day_name: string (nullable = true)\n",
      " |    |    |-- d_same_day_ly: integer (nullable = true)\n",
      " |    |    |-- d_date: long (nullable = true)\n",
      " |    |    |-- d_weekend: string (nullable = true)\n",
      " |    |    |-- d_month_seq: integer (nullable = true)\n",
      " |    |    |-- d_quarter_name: string (nullable = true)\n",
      " |    |    |-- d_current_year: string (nullable = true)\n",
      " |    |    |-- d_fy_quarter_seq: integer (nullable = true)\n",
      " |    |    |-- d_same_day_lq: integer (nullable = true)\n",
      " |    |    |-- d_qoy: integer (nullable = true)\n",
      " |    |    |-- d_year: integer (nullable = true)\n",
      " |    |    |-- d_fy_year: integer (nullable = true)\n",
      " |    |-- p_channel_radio: string (nullable = true)\n",
      " |    |-- p_promo_name: string (nullable = true)\n",
      " |    |-- p_channel_dmail: string (nullable = true)\n",
      " |-- ss_customer_address: struct (nullable = true)\n",
      " |    |-- ca_county: string (nullable = true)\n",
      " |    |-- ca_street_number: string (nullable = true)\n",
      " |    |-- ca_zip: string (nullable = true)\n",
      " |    |-- ca_city: string (nullable = true)\n",
      " |    |-- ca_street_type: string (nullable = true)\n",
      " |    |-- ca_suite_number: string (nullable = true)\n",
      " |    |-- ca_street_name: string (nullable = true)\n",
      " |    |-- ca_state: string (nullable = true)\n",
      " |    |-- ca_location_type: string (nullable = true)\n",
      " |    |-- ca_gmt_offset: integer (nullable = true)\n",
      " |    |-- ca_country: string (nullable = true)\n",
      " |    |-- ca_address_id: string (nullable = true)\n",
      " |-- ss_ext_tax: double (nullable = true)\n",
      " |-- ss_customer: struct (nullable = true)\n",
      " |    |-- c_salutation: string (nullable = true)\n",
      " |    |-- c_preferred_cust_flag: string (nullable = true)\n",
      " |    |-- c_first_sales_date_sk: string (nullable = true)\n",
      " |    |-- c_current_address: struct (nullable = true)\n",
      " |    |    |-- ca_county: string (nullable = true)\n",
      " |    |    |-- ca_street_number: string (nullable = true)\n",
      " |    |    |-- ca_zip: string (nullable = true)\n",
      " |    |    |-- ca_city: string (nullable = true)\n",
      " |    |    |-- ca_street_type: string (nullable = true)\n",
      " |    |    |-- ca_suite_number: string (nullable = true)\n",
      " |    |    |-- ca_street_name: string (nullable = true)\n",
      " |    |    |-- ca_state: string (nullable = true)\n",
      " |    |    |-- ca_location_type: string (nullable = true)\n",
      " |    |    |-- ca_gmt_offset: integer (nullable = true)\n",
      " |    |    |-- ca_country: string (nullable = true)\n",
      " |    |    |-- ca_address_id: string (nullable = true)\n",
      " |    |-- c_login: string (nullable = true)\n",
      " |    |-- c_current_customer_demographics: struct (nullable = true)\n",
      " |    |    |-- cd_dep_employed_count: integer (nullable = true)\n",
      " |    |    |-- cd_education_status: string (nullable = true)\n",
      " |    |    |-- cd_credit_rating: string (nullable = true)\n",
      " |    |    |-- cd_dep_count: integer (nullable = true)\n",
      " |    |    |-- cd_purchase_estimate: integer (nullable = true)\n",
      " |    |    |-- cd_dep_college_count: integer (nullable = true)\n",
      " |    |    |-- cd_marital_status: string (nullable = true)\n",
      " |    |    |-- cd_gender: string (nullable = true)\n",
      " |    |-- c_current_household_demographics: string (nullable = true)\n",
      " |    |-- c_current_cdemo_sk: integer (nullable = true)\n",
      " |    |-- c_first_name: string (nullable = true)\n",
      " |    |-- c_current_hdemo_sk: string (nullable = true)\n",
      " |    |-- c_first_shipto_date: string (nullable = true)\n",
      " |    |-- c_current_addr_sk: integer (nullable = true)\n",
      " |    |-- c_last_name: string (nullable = true)\n",
      " |    |-- c_customer_id: string (nullable = true)\n",
      " |    |-- c_first_sales_date: string (nullable = true)\n",
      " |    |-- c_last_review_date_sk: integer (nullable = true)\n",
      " |    |-- c_birth_month: integer (nullable = true)\n",
      " |    |-- c_birth_country: string (nullable = true)\n",
      " |    |-- c_last_review_date: struct (nullable = true)\n",
      " |    |    |-- d_quarter_seq: integer (nullable = true)\n",
      " |    |    |-- d_last_dom: integer (nullable = true)\n",
      " |    |    |-- d_dom: integer (nullable = true)\n",
      " |    |    |-- d_current_day: string (nullable = true)\n",
      " |    |    |-- d_week_seq: integer (nullable = true)\n",
      " |    |    |-- d_current_month: string (nullable = true)\n",
      " |    |    |-- d_first_dom: integer (nullable = true)\n",
      " |    |    |-- d_moy: integer (nullable = true)\n",
      " |    |    |-- d_dow: integer (nullable = true)\n",
      " |    |    |-- d_holiday: string (nullable = true)\n",
      " |    |    |-- d_current_quarter: string (nullable = true)\n",
      " |    |    |-- d_following_holiday: string (nullable = true)\n",
      " |    |    |-- d_date_id: string (nullable = true)\n",
      " |    |    |-- d_current_week: string (nullable = true)\n",
      " |    |    |-- d_fy_week_seq: integer (nullable = true)\n",
      " |    |    |-- d_day_name: string (nullable = true)\n",
      " |    |    |-- d_same_day_ly: integer (nullable = true)\n",
      " |    |    |-- d_date: long (nullable = true)\n",
      " |    |    |-- d_weekend: string (nullable = true)\n",
      " |    |    |-- d_month_seq: integer (nullable = true)\n",
      " |    |    |-- d_quarter_name: string (nullable = true)\n",
      " |    |    |-- d_current_year: string (nullable = true)\n",
      " |    |    |-- d_fy_quarter_seq: integer (nullable = true)\n",
      " |    |    |-- d_same_day_lq: integer (nullable = true)\n",
      " |    |    |-- d_qoy: integer (nullable = true)\n",
      " |    |    |-- d_year: integer (nullable = true)\n",
      " |    |    |-- d_fy_year: integer (nullable = true)\n",
      " |    |-- c_birth_year: string (nullable = true)\n",
      " |    |-- c_birth_day: string (nullable = true)\n",
      " |    |-- c_email_address: string (nullable = true)\n",
      " |    |-- c_first_shipto_date_sk: string (nullable = true)\n",
      " |-- ss_hdemo_sk: integer (nullable = true)\n",
      " |-- ss_ext_list_price: double (nullable = true)"
     ]
    }
   ],
   "source": [
    "df_from_ddb.printSchema()"
   ]
  },
  {
   "cell_type": "code",
   "execution_count": 4,
   "metadata": {},
   "outputs": [
    {
     "data": {
      "application/vnd.jupyter.widget-view+json": {
       "model_id": "befc970fefac488eb860f9c91e79e552",
       "version_major": 2,
       "version_minor": 0
      },
      "text/plain": [
       "VBox()"
      ]
     },
     "metadata": {},
     "output_type": "display_data"
    },
    {
     "data": {
      "application/vnd.jupyter.widget-view+json": {
       "model_id": "",
       "version_major": 2,
       "version_minor": 0
      },
      "text/plain": [
       "FloatProgress(value=0.0, bar_style='info', description='Progress:', layout=Layout(height='25px', width='50%'),…"
      ]
     },
     "metadata": {},
     "output_type": "display_data"
    },
    {
     "name": "stdout",
     "output_type": "stream",
     "text": [
      "Row(ss_quantity=57, ss_item=Row(i_item_desc=u'Pale pubs know white students. Ei', i_container=u'Unknown', i_manufact_id=303, i_wholesale_cost=4.79, i_formulation=u'55062546yellow345655', i_brand_id=3003002, i_current_price=5.39, i_size=u'large', i_rec_start_date=877910400000000, i_manufact=u'pribarpri', i_manager_id=14, i_item_id=u'AAAAAAAANFNPAAAA', i_class=u'toddlers', i_class_id=3, i_category=u'Children', i_category_id=3, i_brand=u'exportiexporti #2', i_units=u'Unknown', i_rec_end_date=None, i_product_name=u'oughtcallyeingesecally', i_color=u'brown'), ss_wholesale_cost=6.83, ss_net_paid=351.99, ss_net_profit=-37.32, ss_sold_date_sk_ss_ticket_number=u'2450816-1303247917', ss_net_paid_inc_tax=380.14, ss_date_dim=Row(d_quarter_seq=393, d_last_dom=2450814, d_dom=2, d_current_day=u'N', d_week_seq=5114, d_current_month=u'N', d_first_dom=2450815, d_moy=1, d_dow=5, d_holiday=u'N', d_current_quarter=u'N', d_following_holiday=u'Y', d_date_id=u'AAAAAAAAAIFGFCAA', d_current_week=u'N', d_fy_week_seq=5114, d_day_name=u'Friday', d_same_day_ly=2450451, d_date=883699200000000, d_weekend=u'Y', d_month_seq=1176, d_quarter_name=u'1998Q1', d_current_year=u'N', d_fy_quarter_seq=393, d_same_day_lq=2450724, d_qoy=1, d_year=1998, d_fy_year=1998), ss_sales_price=6.64, ss_ticket_number=1303247917, ss_household_demographics=Row(hd_buy_potential=u'0-500', hd_income_band_sk=6, hd_income_band=Row(ib_lower_bound=50001, ib_upper_bound=60000), hd_dep_count=7, hd_vehicle_count=3), ss_ext_wholesale_cost=389.31, ss_cdemo_sk=746854, ss_promo_sk=1677, ss_sold_date_sk=2450816, ss_ext_sales_price=378.48, ss_sold_time_sk=67186, ss_customer_sk=55922510, ss_list_price=9.63, ss_store_sk=32, ss_time_dim=Row(t_hour=18, t_time_id=u'AAAAAAAADHGABAAA', t_shift=u'second', t_sub_shift=u'evening', t_meal_time=u'dinner', t_time=67186, t_minute=39, t_am_pm=u'PM', t_second=46), ss_store=Row(s_geography_class=u'Unknown', s_company_id=1, s_closed_date_sk=None, s_county=u'Denali Borough', s_city=u'Sulphur Springs', s_division_name=u'Unknown', s_zip=u'98354', s_state=u'AK', s_rec_end_date=None, s_floor_space=6131757, s_number_employees=281, s_tax_precentage=0.01, s_street_number=u'228', s_company_name=u'Unknown', s_market_id=7, s_rec_start_date=858211200000000, s_suite_number=u'Suite G', s_store_name=u'able', s_street_name=u'Cherry ', s_market_desc=u'Grey departments might make highly generally strong steps; small patients', s_division_id=1, s_country=u'United States', s_hours=u'8AM-4PM', s_manager=u'Brian Moss', s_market_manager=u'James Gould', s_closed_date=None, s_store_id=u'AAAAAAAAACAAAAAA', s_gmt_offset=-9, s_street_type=u'Avenue'), ss_item_sk=64861, ss_addr_sk=14682389, ss_ext_discount_amt=26, ss_customer_demographics=Row(cd_dep_employed_count=5, cd_education_status=u'College', cd_credit_rating=u'Low Risk', cd_dep_count=0, cd_purchase_estimate=5000, cd_dep_college_count=2, cd_marital_status=u'S', cd_gender=u'F'), ss_coupon_amt=26, ss_promotion=Row(p_start_date_sk=2450840, p_channel_catalog=u'N', p_channel_demo=u'N', p_channel_email=u'N', p_item=Row(i_item_desc=u'There enormous others used to delay living years. Men should meet. Better new achievements might put possible, free men. Provinces slip ago local, mil', i_container=u'Unknown', i_manufact_id=91, i_wholesale_cost=3.55, i_formulation=u'73823557749maroon534', i_brand_id=5004002, i_current_price=4.94, i_size=u'N/A', i_rec_start_date=877910400000000, i_manufact=u'oughtn st', i_manager_id=4, i_item_id=u'AAAAAAAADPMABAAA', i_class=u'classical', i_class_id=4, i_category=u'Music', i_category_id=5, i_brand=u'edu packscholar #2', i_units=u'Carton', i_rec_end_date=None, i_product_name=u'oughtantieingeingcally', i_color=u'misty'), p_channel_press=u'N', p_end_date_sk=2450897, p_discount_active=u'N', p_channel_tv=u'N', p_start_date=Row(d_quarter_seq=393, d_last_dom=2450814, d_dom=26, d_current_day=u'N', d_week_seq=5117, d_current_month=u'N', d_first_dom=2450815, d_moy=1, d_dow=1, d_holiday=u'N', d_current_quarter=u'N', d_following_holiday=u'N', d_date_id=u'AAAAAAAAIJFGFCAA', d_current_week=u'N', d_fy_week_seq=5117, d_day_name=u'Monday', d_same_day_ly=2450475, d_date=885772800000000, d_weekend=u'N', d_month_seq=1176, d_quarter_name=u'1998Q1', d_current_year=u'N', d_fy_quarter_seq=393, d_same_day_lq=2450748, d_qoy=1, d_year=1998, d_fy_year=1998), p_channel_details=u'Main variables make. Christian issues pay in par', p_purpose=u'Unknown', p_promo_id=u'AAAAAAAANIGAAAAA', p_cost=1000, p_channel_event=u'N', p_item_sk=68851, p_response_target=1, p_end_date=Row(d_quarter_seq=394, d_last_dom=2450932, d_dom=24, d_current_day=u'N', d_week_seq=5126, d_current_month=u'N', d_first_dom=2450874, d_moy=3, d_dow=2, d_holiday=u'N', d_current_quarter=u'N', d_following_holiday=u'N', d_date_id=u'AAAAAAAABNFGFCAA', d_current_week=u'N', d_fy_week_seq=5126, d_day_name=u'Tuesday', d_same_day_ly=2450532, d_date=890697600000000, d_weekend=u'N', d_month_seq=1178, d_quarter_name=u'1998Q1', d_current_year=u'N', d_fy_quarter_seq=394, d_same_day_lq=2450805, d_qoy=1, d_year=1998, d_fy_year=1998), p_channel_radio=u'N', p_promo_name=u'ation', p_channel_dmail=u'Y'), ss_customer_address=Row(ca_county=u'Barron County', ca_street_number=u'394', ca_zip=u'50059', ca_city=u'Centerville', ca_street_type=u'RD', ca_suite_number=u'Suite 0', ca_street_name=u'Elm Maple', ca_state=u'WI', ca_location_type=u'apartment', ca_gmt_offset=-6, ca_country=u'United States', ca_address_id=u'AAAAAAAAFBJAAOAA'), ss_ext_tax=28.15, ss_customer=Row(c_salutation=u'Miss', c_preferred_cust_flag=u'Y', c_first_sales_date_sk=None, c_current_address=Row(ca_county=u'Chippewa County', ca_street_number=u'362', ca_zip=u'59231', ca_city=u'Riverside', ca_street_type=u'Circle', ca_suite_number=u'Suite Q', ca_street_name=u'Spring Lincoln', ca_state=u'MN', ca_location_type=u'single family', ca_gmt_offset=-6, ca_country=u'United States', ca_address_id=u'AAAAAAAAHFLHJACA'), c_login=None, c_current_customer_demographics=Row(cd_dep_employed_count=5, cd_education_status=u'Advanced Degree', cd_credit_rating=u'Unknown', cd_dep_count=5, cd_purchase_estimate=6500, cd_dep_college_count=2, cd_marital_status=u'M', cd_gender=u'M'), c_current_household_demographics=None, c_current_cdemo_sk=777891, c_first_name=u'Sylvia', c_current_hdemo_sk=None, c_first_shipto_date=None, c_current_addr_sk=34175831, c_last_name=u'Pearson', c_customer_id=u'AAAAAAAAOEPEFFDA', c_first_sales_date=None, c_last_review_date_sk=2452498, c_birth_month=1, c_birth_country=u'BANGLADESH', c_last_review_date=Row(d_quarter_seq=411, d_last_dom=2452699, d_dom=11, d_current_day=u'N', d_week_seq=5354, d_current_month=u'N', d_first_dom=2452488, d_moy=8, d_dow=0, d_holiday=u'N', d_current_quarter=u'N', d_following_holiday=u'N', d_date_id=u'AAAAAAAACBMGFCAA', d_current_week=u'N', d_fy_week_seq=5354, d_day_name=u'Sunday', d_same_day_ly=2452133, d_date=1029024000000000, d_weekend=u'N', d_month_seq=1231, d_quarter_name=u'2002Q3', d_current_year=u'N', d_fy_quarter_seq=411, d_same_day_lq=2452407, d_qoy=3, d_year=2002, d_fy_year=2002), c_birth_year=None, c_birth_day=None, c_email_address=u'Sylvia.Pearson@i9Rvm3G2ei.org', c_first_shipto_date_sk=None), ss_hdemo_sk=4445, ss_ext_list_price=548.91)\n",
      "Row(ss_quantity=56, ss_item=Row(i_item_desc=u'Likely categories comply all right poor buildings. Various cou', i_container=u'Unknown', i_manufact_id=232, i_wholesale_cost=1.45, i_formulation=u'501145041085papaya24', i_brand_id=8008009, i_current_price=3.94, i_size=u'N/A', i_rec_start_date=877910400000000, i_manufact=u'ablepriable', i_manager_id=90, i_item_id=u'AAAAAAAAIIFBBAAA', i_class=u'outdoor', i_class_id=8, i_category=u'Sports', i_category_id=8, i_brand=u'namelessnameless #9', i_units=u'Carton', i_rec_end_date=None, i_product_name=u'eingesebaroughtation', i_color=u'violet'), ss_wholesale_cost=10.29, ss_net_paid=589.12, ss_net_profit=12.88, ss_sold_date_sk_ss_ticket_number=u'2450816-1303247917', ss_net_paid_inc_tax=595.01, ss_date_dim=Row(d_quarter_seq=393, d_last_dom=2450814, d_dom=2, d_current_day=u'N', d_week_seq=5114, d_current_month=u'N', d_first_dom=2450815, d_moy=1, d_dow=5, d_holiday=u'N', d_current_quarter=u'N', d_following_holiday=u'Y', d_date_id=u'AAAAAAAAAIFGFCAA', d_current_week=u'N', d_fy_week_seq=5114, d_day_name=u'Friday', d_same_day_ly=2450451, d_date=883699200000000, d_weekend=u'Y', d_month_seq=1176, d_quarter_name=u'1998Q1', d_current_year=u'N', d_fy_quarter_seq=393, d_same_day_lq=2450724, d_qoy=1, d_year=1998, d_fy_year=1998), ss_sales_price=10.52, ss_ticket_number=1303247917, ss_household_demographics=Row(hd_buy_potential=u'0-500', hd_income_band_sk=6, hd_income_band=Row(ib_lower_bound=50001, ib_upper_bound=60000), hd_dep_count=7, hd_vehicle_count=3), ss_ext_wholesale_cost=576.24, ss_cdemo_sk=746854, ss_promo_sk=898, ss_sold_date_sk=2450816, ss_ext_sales_price=589.12, ss_sold_time_sk=67186, ss_customer_sk=55922510, ss_list_price=16.97, ss_store_sk=32, ss_time_dim=Row(t_hour=18, t_time_id=u'AAAAAAAADHGABAAA', t_shift=u'second', t_sub_shift=u'evening', t_meal_time=u'dinner', t_time=67186, t_minute=39, t_am_pm=u'PM', t_second=46), ss_store=Row(s_geography_class=u'Unknown', s_company_id=1, s_closed_date_sk=None, s_county=u'Denali Borough', s_city=u'Sulphur Springs', s_division_name=u'Unknown', s_zip=u'98354', s_state=u'AK', s_rec_end_date=None, s_floor_space=6131757, s_number_employees=281, s_tax_precentage=0.01, s_street_number=u'228', s_company_name=u'Unknown', s_market_id=7, s_rec_start_date=858211200000000, s_suite_number=u'Suite G', s_store_name=u'able', s_street_name=u'Cherry ', s_market_desc=u'Grey departments might make highly generally strong steps; small patients', s_division_id=1, s_country=u'United States', s_hours=u'8AM-4PM', s_manager=u'Brian Moss', s_market_manager=u'James Gould', s_closed_date=None, s_store_id=u'AAAAAAAAACAAAAAA', s_gmt_offset=-9, s_street_type=u'Avenue'), ss_item_sk=71048, ss_addr_sk=14682389, ss_ext_discount_amt=0, ss_customer_demographics=Row(cd_dep_employed_count=5, cd_education_status=u'College', cd_credit_rating=u'Low Risk', cd_dep_count=0, cd_purchase_estimate=5000, cd_dep_college_count=2, cd_marital_status=u'S', cd_gender=u'F'), ss_coupon_amt=0, ss_promotion=Row(p_start_date_sk=2450691, p_channel_catalog=u'N', p_channel_demo=u'N', p_channel_email=u'N', p_item=Row(i_item_desc=u'Then useful partners tell sharply good arms. German, similar laws could not know either; very pleasant doctors press just earnings. Net, impor', i_container=u'Unknown', i_manufact_id=14, i_wholesale_cost=1.83, i_formulation=u'97misty0165501471210', i_brand_id=10015007, i_current_price=6.11, i_size=u'N/A', i_rec_start_date=877910400000000, i_manufact=u'eseought', i_manager_id=30, i_item_id=u'AAAAAAAAIKLEBAAA', i_class=u'portable', i_class_id=15, i_category=u'Electronics', i_category_id=10, i_brand=u'scholaramalgamalg #7', i_units=u'Tsp', i_rec_end_date=940982400000000, i_product_name=u'esebarn steseeing', i_color=u'peru'), p_channel_press=u'N', p_end_date_sk=2450723, p_discount_active=u'N', p_channel_tv=u'N', p_start_date=Row(d_quarter_seq=391, d_last_dom=2450873, d_dom=30, d_current_day=u'N', d_week_seq=5096, d_current_month=u'N', d_first_dom=2450662, d_moy=8, d_dow=6, d_holiday=u'N', d_current_quarter=u'N', d_following_holiday=u'N', d_date_id=u'AAAAAAAADAFGFCAA', d_current_week=u'N', d_fy_week_seq=5096, d_day_name=u'Saturday', d_same_day_ly=2450326, d_date=872899200000000, d_weekend=u'Y', d_month_seq=1171, d_quarter_name=u'1997Q3', d_current_year=u'N', d_fy_quarter_seq=391, d_same_day_lq=2450600, d_qoy=3, d_year=1997, d_fy_year=1997), p_channel_details=u'Definite men get strange, social defendants. Films t', p_purpose=u'Unknown', p_promo_id=u'AAAAAAAACIDAAAAA', p_cost=1000, p_channel_event=u'N', p_item_sk=84904, p_response_target=1, p_end_date=Row(d_quarter_seq=392, d_last_dom=2450995, d_dom=1, d_current_day=u'N', d_week_seq=5101, d_current_month=u'N', d_first_dom=2450723, d_moy=10, d_dow=3, d_holiday=u'N', d_current_quarter=u'N', d_following_holiday=u'N', d_date_id=u'AAAAAAAADCFGFCAA', d_current_week=u'N', d_fy_week_seq=5101, d_day_name=u'Wednesday', d_same_day_ly=2450358, d_date=875664000000000, d_weekend=u'N', d_month_seq=1173, d_quarter_name=u'1997Q3', d_current_year=u'N', d_fy_quarter_seq=392, d_same_day_lq=2450631, d_qoy=3, d_year=1997, d_fy_year=1997), p_channel_radio=u'N', p_promo_name=u'eing', p_channel_dmail=u'N'), ss_customer_address=Row(ca_county=u'Barron County', ca_street_number=u'394', ca_zip=u'50059', ca_city=u'Centerville', ca_street_type=u'RD', ca_suite_number=u'Suite 0', ca_street_name=u'Elm Maple', ca_state=u'WI', ca_location_type=u'apartment', ca_gmt_offset=-6, ca_country=u'United States', ca_address_id=u'AAAAAAAAFBJAAOAA'), ss_ext_tax=5.89, ss_customer=Row(c_salutation=u'Miss', c_preferred_cust_flag=u'Y', c_first_sales_date_sk=None, c_current_address=Row(ca_county=u'Chippewa County', ca_street_number=u'362', ca_zip=u'59231', ca_city=u'Riverside', ca_street_type=u'Circle', ca_suite_number=u'Suite Q', ca_street_name=u'Spring Lincoln', ca_state=u'MN', ca_location_type=u'single family', ca_gmt_offset=-6, ca_country=u'United States', ca_address_id=u'AAAAAAAAHFLHJACA'), c_login=None, c_current_customer_demographics=Row(cd_dep_employed_count=5, cd_education_status=u'Advanced Degree', cd_credit_rating=u'Unknown', cd_dep_count=5, cd_purchase_estimate=6500, cd_dep_college_count=2, cd_marital_status=u'M', cd_gender=u'M'), c_current_household_demographics=None, c_current_cdemo_sk=777891, c_first_name=u'Sylvia', c_current_hdemo_sk=None, c_first_shipto_date=None, c_current_addr_sk=34175831, c_last_name=u'Pearson', c_customer_id=u'AAAAAAAAOEPEFFDA', c_first_sales_date=None, c_last_review_date_sk=2452498, c_birth_month=1, c_birth_country=u'BANGLADESH', c_last_review_date=Row(d_quarter_seq=411, d_last_dom=2452699, d_dom=11, d_current_day=u'N', d_week_seq=5354, d_current_month=u'N', d_first_dom=2452488, d_moy=8, d_dow=0, d_holiday=u'N', d_current_quarter=u'N', d_following_holiday=u'N', d_date_id=u'AAAAAAAACBMGFCAA', d_current_week=u'N', d_fy_week_seq=5354, d_day_name=u'Sunday', d_same_day_ly=2452133, d_date=1029024000000000, d_weekend=u'N', d_month_seq=1231, d_quarter_name=u'2002Q3', d_current_year=u'N', d_fy_quarter_seq=411, d_same_day_lq=2452407, d_qoy=3, d_year=2002, d_fy_year=2002), c_birth_year=None, c_birth_day=None, c_email_address=u'Sylvia.Pearson@i9Rvm3G2ei.org', c_first_shipto_date_sk=None), ss_hdemo_sk=4445, ss_ext_list_price=950.32)\n",
      "Row(ss_quantity=63, ss_item=Row(i_item_desc=u'Relations learn recent, available groups. Environmental', i_container=u'Unknown', i_manufact_id=242, i_wholesale_cost=4.28, i_formulation=u'028690605724pink8308', i_brand_id=5003002, i_current_price=6.91, i_size=u'N/A', i_rec_start_date=877910400000000, i_manufact=u'ableeseable', i_manager_id=47, i_item_id=u'AAAAAAAABOEFBAAA', i_class=u'pop', i_class_id=3, i_category=u'Music', i_category_id=5, i_brand=u'exportischolar #2', i_units=u'Unknown', i_rec_end_date=None, i_product_name=u'anticallyableationeing', i_color=u'yellow'), ss_wholesale_cost=14.25, ss_net_paid=418.95, ss_net_profit=-478.8, ss_sold_date_sk_ss_ticket_number=u'2450816-1303247917', ss_net_paid_inc_tax=444.08, ss_date_dim=Row(d_quarter_seq=393, d_last_dom=2450814, d_dom=2, d_current_day=u'N', d_week_seq=5114, d_current_month=u'N', d_first_dom=2450815, d_moy=1, d_dow=5, d_holiday=u'N', d_current_quarter=u'N', d_following_holiday=u'Y', d_date_id=u'AAAAAAAAAIFGFCAA', d_current_week=u'N', d_fy_week_seq=5114, d_day_name=u'Friday', d_same_day_ly=2450451, d_date=883699200000000, d_weekend=u'Y', d_month_seq=1176, d_quarter_name=u'1998Q1', d_current_year=u'N', d_fy_quarter_seq=393, d_same_day_lq=2450724, d_qoy=1, d_year=1998, d_fy_year=1998), ss_sales_price=8.75, ss_ticket_number=1303247917, ss_household_demographics=Row(hd_buy_potential=u'0-500', hd_income_band_sk=6, hd_income_band=Row(ib_lower_bound=50001, ib_upper_bound=60000), hd_dep_count=7, hd_vehicle_count=3), ss_ext_wholesale_cost=897.75, ss_cdemo_sk=746854, ss_promo_sk=1253, ss_sold_date_sk=2450816, ss_ext_sales_price=551.25, ss_sold_time_sk=67186, ss_customer_sk=55922510, ss_list_price=23.65, ss_store_sk=32, ss_time_dim=Row(t_hour=18, t_time_id=u'AAAAAAAADHGABAAA', t_shift=u'second', t_sub_shift=u'evening', t_meal_time=u'dinner', t_time=67186, t_minute=39, t_am_pm=u'PM', t_second=46), ss_store=Row(s_geography_class=u'Unknown', s_company_id=1, s_closed_date_sk=None, s_county=u'Denali Borough', s_city=u'Sulphur Springs', s_division_name=u'Unknown', s_zip=u'98354', s_state=u'AK', s_rec_end_date=None, s_floor_space=6131757, s_number_employees=281, s_tax_precentage=0.01, s_street_number=u'228', s_company_name=u'Unknown', s_market_id=7, s_rec_start_date=858211200000000, s_suite_number=u'Suite G', s_store_name=u'able', s_street_name=u'Cherry ', s_market_desc=u'Grey departments might make highly generally strong steps; small patients', s_division_id=1, s_country=u'United States', s_hours=u'8AM-4PM', s_manager=u'Brian Moss', s_market_manager=u'James Gould', s_closed_date=None, s_store_id=u'AAAAAAAAACAAAAAA', s_gmt_offset=-9, s_street_type=u'Avenue'), ss_item_sk=87265, ss_addr_sk=14682389, ss_ext_discount_amt=132, ss_customer_demographics=Row(cd_dep_employed_count=5, cd_education_status=u'College', cd_credit_rating=u'Low Risk', cd_dep_count=0, cd_purchase_estimate=5000, cd_dep_college_count=2, cd_marital_status=u'S', cd_gender=u'F'), ss_coupon_amt=132, ss_promotion=Row(p_start_date_sk=2450578, p_channel_catalog=u'N', p_channel_demo=u'N', p_channel_email=u'N', p_item=Row(i_item_desc=u'Redundant, o', i_container=u'Unknown', i_manufact_id=2, i_wholesale_cost=11.82, i_formulation=u'309wheat418675435461', i_brand_id=7002005, i_current_price=28.15, i_size=u'N/A', i_rec_start_date=877910400000000, i_manufact=u'able', i_manager_id=44, i_item_id=u'AAAAAAAAKNKGFAAA', i_class=u'bedding', i_class_id=2, i_category=u'Home', i_category_id=7, i_brand=u'importobrand #5', i_units=u'Case', i_rec_end_date=972518400000000, i_product_name=u'esepribarantiantipri', i_color=u'red'), p_channel_press=u'N', p_end_date_sk=2450632, p_discount_active=u'N', p_channel_tv=u'N', p_start_date=Row(d_quarter_seq=390, d_last_dom=2450689, d_dom=9, d_current_day=u'N', d_week_seq=5080, d_current_month=u'N', d_first_dom=2450570, d_moy=5, d_dow=5, d_holiday=u'N', d_current_quarter=u'N', d_following_holiday=u'N', d_date_id=u'AAAAAAAACJEGFCAA', d_current_week=u'N', d_fy_week_seq=5080, d_day_name=u'Friday', d_same_day_ly=2450213, d_date=863136000000000, d_weekend=u'Y', d_month_seq=1168, d_quarter_name=u'1997Q2', d_current_year=u'N', d_fy_quarter_seq=390, d_same_day_lq=2450488, d_qoy=2, d_year=1997, d_fy_year=1997), p_channel_details=u'Then average months ', p_purpose=u'Unknown', p_promo_id=u'AAAAAAAAFOEAAAAA', p_cost=1000, p_channel_event=u'N', p_item_sk=355034, p_response_target=1, p_end_date=Row(d_quarter_seq=391, d_last_dom=2450811, d_dom=2, d_current_day=u'N', d_week_seq=5088, d_current_month=u'N', d_first_dom=2450631, d_moy=7, d_dow=3, d_holiday=u'N', d_current_quarter=u'N', d_following_holiday=u'N', d_date_id=u'AAAAAAAAIMEGFCAA', d_current_week=u'N', d_fy_week_seq=5088, d_day_name=u'Wednesday', d_same_day_ly=2450267, d_date=867801600000000, d_weekend=u'N', d_month_seq=1170, d_quarter_name=u'1997Q3', d_current_year=u'N', d_fy_quarter_seq=391, d_same_day_lq=2450541, d_qoy=3, d_year=1997, d_fy_year=1997), p_channel_radio=u'N', p_promo_name=u'pri', p_channel_dmail=u'Y'), ss_customer_address=Row(ca_county=u'Barron County', ca_street_number=u'394', ca_zip=u'50059', ca_city=u'Centerville', ca_street_type=u'RD', ca_suite_number=u'Suite 0', ca_street_name=u'Elm Maple', ca_state=u'WI', ca_location_type=u'apartment', ca_gmt_offset=-6, ca_country=u'United States', ca_address_id=u'AAAAAAAAFBJAAOAA'), ss_ext_tax=25.13, ss_customer=Row(c_salutation=u'Miss', c_preferred_cust_flag=u'Y', c_first_sales_date_sk=None, c_current_address=Row(ca_county=u'Chippewa County', ca_street_number=u'362', ca_zip=u'59231', ca_city=u'Riverside', ca_street_type=u'Circle', ca_suite_number=u'Suite Q', ca_street_name=u'Spring Lincoln', ca_state=u'MN', ca_location_type=u'single family', ca_gmt_offset=-6, ca_country=u'United States', ca_address_id=u'AAAAAAAAHFLHJACA'), c_login=None, c_current_customer_demographics=Row(cd_dep_employed_count=5, cd_education_status=u'Advanced Degree', cd_credit_rating=u'Unknown', cd_dep_count=5, cd_purchase_estimate=6500, cd_dep_college_count=2, cd_marital_status=u'M', cd_gender=u'M'), c_current_household_demographics=None, c_current_cdemo_sk=777891, c_first_name=u'Sylvia', c_current_hdemo_sk=None, c_first_shipto_date=None, c_current_addr_sk=34175831, c_last_name=u'Pearson', c_customer_id=u'AAAAAAAAOEPEFFDA', c_first_sales_date=None, c_last_review_date_sk=2452498, c_birth_month=1, c_birth_country=u'BANGLADESH', c_last_review_date=Row(d_quarter_seq=411, d_last_dom=2452699, d_dom=11, d_current_day=u'N', d_week_seq=5354, d_current_month=u'N', d_first_dom=2452488, d_moy=8, d_dow=0, d_holiday=u'N', d_current_quarter=u'N', d_following_holiday=u'N', d_date_id=u'AAAAAAAACBMGFCAA', d_current_week=u'N', d_fy_week_seq=5354, d_day_name=u'Sunday', d_same_day_ly=2452133, d_date=1029024000000000, d_weekend=u'N', d_month_seq=1231, d_quarter_name=u'2002Q3', d_current_year=u'N', d_fy_quarter_seq=411, d_same_day_lq=2452407, d_qoy=3, d_year=2002, d_fy_year=2002), c_birth_year=None, c_birth_day=None, c_email_address=u'Sylvia.Pearson@i9Rvm3G2ei.org', c_first_shipto_date_sk=None), ss_hdemo_sk=4445, ss_ext_list_price=1489.95)\n",
      "Row(ss_quantity=41, ss_item=Row(i_item_desc=u'Senior bonds might not co-ordinate by a parties. International children apply more professional miles. Specialist, little lives sign ill, helpful industries. Long, good terms decide necessaril', i_container=u'Unknown', i_manufact_id=106, i_wholesale_cost=7.11, i_formulation=u'6260967063slate79969', i_brand_id=5002002, i_current_price=9.12, i_size=u'N/A', i_rec_start_date=877910400000000, i_manufact=u'callybarought', i_manager_id=5, i_item_id=u'AAAAAAAALBEIBAAA', i_class=u'country', i_class_id=2, i_category=u'Music', i_category_id=5, i_brand=u'importoscholar #2', i_units=u'Case', i_rec_end_date=None, i_product_name=u'antiantiprin stn st', i_color=u'navy'), ss_wholesale_cost=55.72, ss_net_paid=2863.85, ss_net_profit=579.33, ss_sold_date_sk_ss_ticket_number=u'2450816-1303247917', ss_net_paid_inc_tax=2949.76, ss_date_dim=Row(d_quarter_seq=393, d_last_dom=2450814, d_dom=2, d_current_day=u'N', d_week_seq=5114, d_current_month=u'N', d_first_dom=2450815, d_moy=1, d_dow=5, d_holiday=u'N', d_current_quarter=u'N', d_following_holiday=u'Y', d_date_id=u'AAAAAAAAAIFGFCAA', d_current_week=u'N', d_fy_week_seq=5114, d_day_name=u'Friday', d_same_day_ly=2450451, d_date=883699200000000, d_weekend=u'Y', d_month_seq=1176, d_quarter_name=u'1998Q1', d_current_year=u'N', d_fy_quarter_seq=393, d_same_day_lq=2450724, d_qoy=1, d_year=1998, d_fy_year=1998), ss_sales_price=69.85, ss_ticket_number=1303247917, ss_household_demographics=Row(hd_buy_potential=u'0-500', hd_income_band_sk=6, hd_income_band=Row(ib_lower_bound=50001, ib_upper_bound=60000), hd_dep_count=7, hd_vehicle_count=3), ss_ext_wholesale_cost=2284.52, ss_cdemo_sk=746854, ss_promo_sk=1001, ss_sold_date_sk=2450816, ss_ext_sales_price=2863.85, ss_sold_time_sk=67186, ss_customer_sk=55922510, ss_list_price=110.88, ss_store_sk=32, ss_time_dim=Row(t_hour=18, t_time_id=u'AAAAAAAADHGABAAA', t_shift=u'second', t_sub_shift=u'evening', t_meal_time=u'dinner', t_time=67186, t_minute=39, t_am_pm=u'PM', t_second=46), ss_store=Row(s_geography_class=u'Unknown', s_company_id=1, s_closed_date_sk=None, s_county=u'Denali Borough', s_city=u'Sulphur Springs', s_division_name=u'Unknown', s_zip=u'98354', s_state=u'AK', s_rec_end_date=None, s_floor_space=6131757, s_number_employees=281, s_tax_precentage=0.01, s_street_number=u'228', s_company_name=u'Unknown', s_market_id=7, s_rec_start_date=858211200000000, s_suite_number=u'Suite G', s_store_name=u'able', s_street_name=u'Cherry ', s_market_desc=u'Grey departments might make highly generally strong steps; small patients', s_division_id=1, s_country=u'United States', s_hours=u'8AM-4PM', s_manager=u'Brian Moss', s_market_manager=u'James Gould', s_closed_date=None, s_store_id=u'AAAAAAAAACAAAAAA', s_gmt_offset=-9, s_street_type=u'Avenue'), ss_item_sk=99355, ss_addr_sk=14682389, ss_ext_discount_amt=0, ss_customer_demographics=Row(cd_dep_employed_count=5, cd_education_status=u'College', cd_credit_rating=u'Low Risk', cd_dep_count=0, cd_purchase_estimate=5000, cd_dep_college_count=2, cd_marital_status=u'S', cd_gender=u'F'), ss_coupon_amt=0, ss_promotion=Row(p_start_date_sk=2450895, p_channel_catalog=u'N', p_channel_demo=u'N', p_channel_email=u'N', p_item=Row(i_item_desc=u'English, heavy views take often fasc', i_container=u'Unknown', i_manufact_id=33, i_wholesale_cost=1.19, i_formulation=u'181290puff9072798363', i_brand_id=8009010, i_current_price=2.79, i_size=u'N/A', i_rec_start_date=877910400000000, i_manufact=u'pripri', i_manager_id=9, i_item_id=u'AAAAAAAANNILEAAA', i_class=u'optics', i_class_id=9, i_category=u'Sports', i_category_id=8, i_brand=u'maxinameless #10', i_units=u'Bundle', i_rec_end_date=None, i_product_name=u'n stcallyesen stbarpri', i_color=u'olive'), p_channel_press=u'N', p_end_date_sk=2450940, p_discount_active=u'N', p_channel_tv=u'N', p_start_date=Row(d_quarter_seq=394, d_last_dom=2450932, d_dom=22, d_current_day=u'N', d_week_seq=5125, d_current_month=u'N', d_first_dom=2450874, d_moy=3, d_dow=0, d_holiday=u'N', d_current_quarter=u'N', d_following_holiday=u'N', d_date_id=u'AAAAAAAAPMFGFCAA', d_current_week=u'N', d_fy_week_seq=5125, d_day_name=u'Sunday', d_same_day_ly=2450530, d_date=890524800000000, d_weekend=u'N', d_month_seq=1178, d_quarter_name=u'1998Q1', d_current_year=u'N', d_fy_quarter_seq=394, d_same_day_lq=2450803, d_qoy=1, d_year=1998, d_fy_year=1998), p_channel_details=u'However main years could fa', p_purpose=u'Unknown', p_promo_id=u'AAAAAAAAJODAAAAA', p_cost=1000, p_channel_event=u'N', p_item_sk=309469, p_response_target=1, p_end_date=Row(d_quarter_seq=394, d_last_dom=2451054, d_dom=6, d_current_day=u'N', d_week_seq=5132, d_current_month=u'N', d_first_dom=2450935, d_moy=5, d_dow=3, d_holiday=u'N', d_current_quarter=u'N', d_following_holiday=u'N', d_date_id=u'AAAAAAAAMPFGFCAA', d_current_week=u'N', d_fy_week_seq=5132, d_day_name=u'Wednesday', d_same_day_ly=2450575, d_date=894412800000000, d_weekend=u'N', d_month_seq=1180, d_quarter_name=u'1998Q2', d_current_year=u'N', d_fy_quarter_seq=394, d_same_day_lq=2450850, d_qoy=2, d_year=1998, d_fy_year=1998), p_channel_radio=u'N', p_promo_name=u'ought', p_channel_dmail=u'Y'), ss_customer_address=Row(ca_county=u'Barron County', ca_street_number=u'394', ca_zip=u'50059', ca_city=u'Centerville', ca_street_type=u'RD', ca_suite_number=u'Suite 0', ca_street_name=u'Elm Maple', ca_state=u'WI', ca_location_type=u'apartment', ca_gmt_offset=-6, ca_country=u'United States', ca_address_id=u'AAAAAAAAFBJAAOAA'), ss_ext_tax=85.91, ss_customer=Row(c_salutation=u'Miss', c_preferred_cust_flag=u'Y', c_first_sales_date_sk=None, c_current_address=Row(ca_county=u'Chippewa County', ca_street_number=u'362', ca_zip=u'59231', ca_city=u'Riverside', ca_street_type=u'Circle', ca_suite_number=u'Suite Q', ca_street_name=u'Spring Lincoln', ca_state=u'MN', ca_location_type=u'single family', ca_gmt_offset=-6, ca_country=u'United States', ca_address_id=u'AAAAAAAAHFLHJACA'), c_login=None, c_current_customer_demographics=Row(cd_dep_employed_count=5, cd_education_status=u'Advanced Degree', cd_credit_rating=u'Unknown', cd_dep_count=5, cd_purchase_estimate=6500, cd_dep_college_count=2, cd_marital_status=u'M', cd_gender=u'M'), c_current_household_demographics=None, c_current_cdemo_sk=777891, c_first_name=u'Sylvia', c_current_hdemo_sk=None, c_first_shipto_date=None, c_current_addr_sk=34175831, c_last_name=u'Pearson', c_customer_id=u'AAAAAAAAOEPEFFDA', c_first_sales_date=None, c_last_review_date_sk=2452498, c_birth_month=1, c_birth_country=u'BANGLADESH', c_last_review_date=Row(d_quarter_seq=411, d_last_dom=2452699, d_dom=11, d_current_day=u'N', d_week_seq=5354, d_current_month=u'N', d_first_dom=2452488, d_moy=8, d_dow=0, d_holiday=u'N', d_current_quarter=u'N', d_following_holiday=u'N', d_date_id=u'AAAAAAAACBMGFCAA', d_current_week=u'N', d_fy_week_seq=5354, d_day_name=u'Sunday', d_same_day_ly=2452133, d_date=1029024000000000, d_weekend=u'N', d_month_seq=1231, d_quarter_name=u'2002Q3', d_current_year=u'N', d_fy_quarter_seq=411, d_same_day_lq=2452407, d_qoy=3, d_year=2002, d_fy_year=2002), c_birth_year=None, c_birth_day=None, c_email_address=u'Sylvia.Pearson@i9Rvm3G2ei.org', c_first_shipto_date_sk=None), ss_hdemo_sk=4445, ss_ext_list_price=4546.08)\n",
      "Row(ss_quantity=22, ss_item=Row(i_item_desc=u'Sensitive representatives predict appointed schools. National cars could not dra', i_container=u'Unknown', i_manufact_id=160, i_wholesale_cost=0.65, i_formulation=u'0791pink126361304003', i_brand_id=2004002, i_current_price=1.77, i_size=u'medium', i_rec_start_date=877910400000000, i_manufact=u'barcallyought', i_manager_id=22, i_item_id=u'AAAAAAAAJABBCAAA', i_class=u'sports-apparel', i_class_id=4, i_category=u'Men', i_category_id=2, i_brand=u'edu packimporto #2', i_units=u'Pound', i_rec_end_date=None, i_product_name=u'priprieseantipriought', i_color=u'mint'), ss_wholesale_cost=74.93, ss_net_paid=1682.12, ss_net_profit=33.66, ss_sold_date_sk_ss_ticket_number=u'2450816-1303247917', ss_net_paid_inc_tax=1816.68, ss_date_dim=Row(d_quarter_seq=393, d_last_dom=2450814, d_dom=2, d_current_day=u'N', d_week_seq=5114, d_current_month=u'N', d_first_dom=2450815, d_moy=1, d_dow=5, d_holiday=u'N', d_current_quarter=u'N', d_following_holiday=u'Y', d_date_id=u'AAAAAAAAAIFGFCAA', d_current_week=u'N', d_fy_week_seq=5114, d_day_name=u'Friday', d_same_day_ly=2450451, d_date=883699200000000, d_weekend=u'Y', d_month_seq=1176, d_quarter_name=u'1998Q1', d_current_year=u'N', d_fy_quarter_seq=393, d_same_day_lq=2450724, d_qoy=1, d_year=1998, d_fy_year=1998), ss_sales_price=76.46, ss_ticket_number=1303247917, ss_household_demographics=Row(hd_buy_potential=u'0-500', hd_income_band_sk=6, hd_income_band=Row(ib_lower_bound=50001, ib_upper_bound=60000), hd_dep_count=7, hd_vehicle_count=3), ss_ext_wholesale_cost=1648.46, ss_cdemo_sk=746854, ss_promo_sk=321, ss_sold_date_sk=2450816, ss_ext_sales_price=1682.12, ss_sold_time_sk=67186, ss_customer_sk=55922510, ss_list_price=141.61, ss_store_sk=32, ss_time_dim=Row(t_hour=18, t_time_id=u'AAAAAAAADHGABAAA', t_shift=u'second', t_sub_shift=u'evening', t_meal_time=u'dinner', t_time=67186, t_minute=39, t_am_pm=u'PM', t_second=46), ss_store=Row(s_geography_class=u'Unknown', s_company_id=1, s_closed_date_sk=None, s_county=u'Denali Borough', s_city=u'Sulphur Springs', s_division_name=u'Unknown', s_zip=u'98354', s_state=u'AK', s_rec_end_date=None, s_floor_space=6131757, s_number_employees=281, s_tax_precentage=0.01, s_street_number=u'228', s_company_name=u'Unknown', s_market_id=7, s_rec_start_date=858211200000000, s_suite_number=u'Suite G', s_store_name=u'able', s_street_name=u'Cherry ', s_market_desc=u'Grey departments might make highly generally strong steps; small patients', s_division_id=1, s_country=u'United States', s_hours=u'8AM-4PM', s_manager=u'Brian Moss', s_market_manager=u'James Gould', s_closed_date=None, s_store_id=u'AAAAAAAAACAAAAAA', s_gmt_offset=-9, s_street_type=u'Avenue'), ss_item_sk=135433, ss_addr_sk=14682389, ss_ext_discount_amt=0, ss_customer_demographics=Row(cd_dep_employed_count=5, cd_education_status=u'College', cd_credit_rating=u'Low Risk', cd_dep_count=0, cd_purchase_estimate=5000, cd_dep_college_count=2, cd_marital_status=u'S', cd_gender=u'F'), ss_coupon_amt=0, ss_promotion=Row(p_start_date_sk=2450464, p_channel_catalog=u'N', p_channel_demo=u'N', p_channel_email=u'N', p_item=Row(i_item_desc=u'Major shares ought to find by a provisions. Detaile', i_container=u'Unknown', i_manufact_id=564, i_wholesale_cost=1.83, i_formulation=u'933071614yellow46041', i_brand_id=4003001, i_current_price=2.86, i_size=u'small', i_rec_start_date=877910400000000, i_manufact=u'esecallyanti', i_manager_id=84, i_item_id=u'AAAAAAAAAHOIFAAA', i_class=u'kids', i_class_id=3, i_category=u'Shoes', i_category_id=4, i_brand=u'exportiedu pack #1', i_units=u'Bundle', i_rec_end_date=940982400000000, i_product_name=u'eseeseoughtesecallypri', i_color=u'midnight'), p_channel_press=u'N', p_end_date_sk=2450493, p_discount_active=u'N', p_channel_tv=u'N', p_start_date=Row(d_quarter_seq=389, d_last_dom=2450449, d_dom=15, d_current_day=u'N', d_week_seq=5064, d_current_month=u'N', d_first_dom=2450450, d_moy=1, d_dow=3, d_holiday=u'N', d_current_quarter=u'N', d_following_holiday=u'N', d_date_id=u'AAAAAAAAACEGFCAA', d_current_week=u'N', d_fy_week_seq=5064, d_day_name=u'Wednesday', d_same_day_ly=2450098, d_date=853286400000000, d_weekend=u'N', d_month_seq=1164, d_quarter_name=u'1997Q1', d_current_year=u'N', d_fy_quarter_seq=389, d_same_day_lq=2450372, d_qoy=1, d_year=1997, d_fy_year=1997), p_channel_details=u'Scenes could deny there', p_purpose=u'Unknown', p_promo_id=u'AAAAAAAABEBAAAAA', p_cost=1000, p_channel_event=u'N', p_item_sk=364144, p_response_target=1, p_end_date=Row(d_quarter_seq=389, d_last_dom=2450511, d_dom=13, d_current_day=u'N', d_week_seq=5068, d_current_month=u'N', d_first_dom=2450481, d_moy=2, d_dow=4, d_holiday=u'N', d_current_quarter=u'N', d_following_holiday=u'N', d_date_id=u'AAAAAAAANDEGFCAA', d_current_week=u'N', d_fy_week_seq=5068, d_day_name=u'Thursday', d_same_day_ly=2450127, d_date=855792000000000, d_weekend=u'N', d_month_seq=1165, d_quarter_name=u'1997Q1', d_current_year=u'N', d_fy_quarter_seq=389, d_same_day_lq=2450401, d_qoy=1, d_year=1997, d_fy_year=1997), p_channel_radio=u'N', p_promo_name=u'ought', p_channel_dmail=u'N'), ss_customer_address=Row(ca_county=u'Barron County', ca_street_number=u'394', ca_zip=u'50059', ca_city=u'Centerville', ca_street_type=u'RD', ca_suite_number=u'Suite 0', ca_street_name=u'Elm Maple', ca_state=u'WI', ca_location_type=u'apartment', ca_gmt_offset=-6, ca_country=u'United States', ca_address_id=u'AAAAAAAAFBJAAOAA'), ss_ext_tax=134.56, ss_customer=Row(c_salutation=u'Miss', c_preferred_cust_flag=u'Y', c_first_sales_date_sk=None, c_current_address=Row(ca_county=u'Chippewa County', ca_street_number=u'362', ca_zip=u'59231', ca_city=u'Riverside', ca_street_type=u'Circle', ca_suite_number=u'Suite Q', ca_street_name=u'Spring Lincoln', ca_state=u'MN', ca_location_type=u'single family', ca_gmt_offset=-6, ca_country=u'United States', ca_address_id=u'AAAAAAAAHFLHJACA'), c_login=None, c_current_customer_demographics=Row(cd_dep_employed_count=5, cd_education_status=u'Advanced Degree', cd_credit_rating=u'Unknown', cd_dep_count=5, cd_purchase_estimate=6500, cd_dep_college_count=2, cd_marital_status=u'M', cd_gender=u'M'), c_current_household_demographics=None, c_current_cdemo_sk=777891, c_first_name=u'Sylvia', c_current_hdemo_sk=None, c_first_shipto_date=None, c_current_addr_sk=34175831, c_last_name=u'Pearson', c_customer_id=u'AAAAAAAAOEPEFFDA', c_first_sales_date=None, c_last_review_date_sk=2452498, c_birth_month=1, c_birth_country=u'BANGLADESH', c_last_review_date=Row(d_quarter_seq=411, d_last_dom=2452699, d_dom=11, d_current_day=u'N', d_week_seq=5354, d_current_month=u'N', d_first_dom=2452488, d_moy=8, d_dow=0, d_holiday=u'N', d_current_quarter=u'N', d_following_holiday=u'N', d_date_id=u'AAAAAAAACBMGFCAA', d_current_week=u'N', d_fy_week_seq=5354, d_day_name=u'Sunday', d_same_day_ly=2452133, d_date=1029024000000000, d_weekend=u'N', d_month_seq=1231, d_quarter_name=u'2002Q3', d_current_year=u'N', d_fy_quarter_seq=411, d_same_day_lq=2452407, d_qoy=3, d_year=2002, d_fy_year=2002), c_birth_year=None, c_birth_day=None, c_email_address=u'Sylvia.Pearson@i9Rvm3G2ei.org', c_first_shipto_date_sk=None), ss_hdemo_sk=4445, ss_ext_list_price=3115.42)"
     ]
    }
   ],
   "source": [
    "for rec in df_from_ddb.take(5):\n",
    "    print(rec)"
   ]
  },
  {
   "cell_type": "code",
   "execution_count": 5,
   "metadata": {},
   "outputs": [
    {
     "data": {
      "application/vnd.jupyter.widget-view+json": {
       "model_id": "da2b8853f5244bd0b3e09db9e57dd37c",
       "version_major": 2,
       "version_minor": 0
      },
      "text/plain": [
       "VBox()"
      ]
     },
     "metadata": {},
     "output_type": "display_data"
    },
    {
     "data": {
      "application/vnd.jupyter.widget-view+json": {
       "model_id": "",
       "version_major": 2,
       "version_minor": 0
      },
      "text/plain": [
       "FloatProgress(value=0.0, bar_style='info', description='Progress:', layout=Layout(height='25px', width='50%'),…"
      ]
     },
     "metadata": {},
     "output_type": "display_data"
    },
    {
     "name": "stdout",
     "output_type": "stream",
     "text": [
      "308"
     ]
    }
   ],
   "source": [
    "df_from_ddb.rdd.getNumPartitions()"
   ]
  },
  {
   "cell_type": "code",
   "execution_count": 6,
   "metadata": {},
   "outputs": [
    {
     "data": {
      "application/vnd.jupyter.widget-view+json": {
       "model_id": "7e696bef99f64df59f800544ebdedd3f",
       "version_major": 2,
       "version_minor": 0
      },
      "text/plain": [
       "VBox()"
      ]
     },
     "metadata": {},
     "output_type": "display_data"
    },
    {
     "data": {
      "application/vnd.jupyter.widget-view+json": {
       "model_id": "",
       "version_major": 2,
       "version_minor": 0
      },
      "text/plain": [
       "FloatProgress(value=0.0, bar_style='info', description='Progress:', layout=Layout(height='25px', width='50%'),…"
      ]
     },
     "metadata": {},
     "output_type": "display_data"
    }
   ],
   "source": [
    "df_from_ddb_repartitioned = df_from_ddb.repartition(2048, 'ss_sold_date_sk', 'ss_ticket_number')"
   ]
  },
  {
   "cell_type": "code",
   "execution_count": 7,
   "metadata": {},
   "outputs": [
    {
     "data": {
      "application/vnd.jupyter.widget-view+json": {
       "model_id": "005c4d9160d24c4b936d14d957470099",
       "version_major": 2,
       "version_minor": 0
      },
      "text/plain": [
       "VBox()"
      ]
     },
     "metadata": {},
     "output_type": "display_data"
    },
    {
     "data": {
      "application/vnd.jupyter.widget-view+json": {
       "model_id": "",
       "version_major": 2,
       "version_minor": 0
      },
      "text/plain": [
       "FloatProgress(value=0.0, bar_style='info', description='Progress:', layout=Layout(height='25px', width='50%'),…"
      ]
     },
     "metadata": {},
     "output_type": "display_data"
    },
    {
     "name": "stdout",
     "output_type": "stream",
     "text": [
      "2048"
     ]
    }
   ],
   "source": [
    "df_from_ddb_repartitioned.rdd.getNumPartitions()"
   ]
  },
  {
   "cell_type": "code",
   "execution_count": 8,
   "metadata": {},
   "outputs": [
    {
     "data": {
      "application/vnd.jupyter.widget-view+json": {
       "model_id": "e096b7aa71924793b0d1556e8c672b3f",
       "version_major": 2,
       "version_minor": 0
      },
      "text/plain": [
       "VBox()"
      ]
     },
     "metadata": {},
     "output_type": "display_data"
    },
    {
     "data": {
      "application/vnd.jupyter.widget-view+json": {
       "model_id": "",
       "version_major": 2,
       "version_minor": 0
      },
      "text/plain": [
       "FloatProgress(value=0.0, bar_style='info', description='Progress:', layout=Layout(height='25px', width='50%'),…"
      ]
     },
     "metadata": {},
     "output_type": "display_data"
    },
    {
     "name": "stderr",
     "output_type": "stream",
     "text": [
      "An error occurred while calling o98.parquet.\n",
      ": org.apache.spark.SparkException: Job aborted.\n",
      "\tat org.apache.spark.sql.execution.datasources.FileFormatWriter$.write(FileFormatWriter.scala:198)\n",
      "\tat org.apache.spark.sql.execution.datasources.InsertIntoHadoopFsRelationCommand.run(InsertIntoHadoopFsRelationCommand.scala:159)\n",
      "\tat org.apache.spark.sql.execution.command.DataWritingCommandExec.sideEffectResult$lzycompute(commands.scala:104)\n",
      "\tat org.apache.spark.sql.execution.command.DataWritingCommandExec.sideEffectResult(commands.scala:102)\n",
      "\tat org.apache.spark.sql.execution.command.DataWritingCommandExec.doExecute(commands.scala:122)\n",
      "\tat org.apache.spark.sql.execution.SparkPlan$$anonfun$execute$1.apply(SparkPlan.scala:131)\n",
      "\tat org.apache.spark.sql.execution.SparkPlan$$anonfun$execute$1.apply(SparkPlan.scala:127)\n",
      "\tat org.apache.spark.sql.execution.SparkPlan$$anonfun$executeQuery$1.apply(SparkPlan.scala:156)\n",
      "\tat org.apache.spark.rdd.RDDOperationScope$.withScope(RDDOperationScope.scala:151)\n",
      "\tat org.apache.spark.sql.execution.SparkPlan.executeQuery(SparkPlan.scala:152)\n",
      "\tat org.apache.spark.sql.execution.SparkPlan.execute(SparkPlan.scala:127)\n",
      "\tat org.apache.spark.sql.execution.QueryExecution.toRdd$lzycompute(QueryExecution.scala:80)\n",
      "\tat org.apache.spark.sql.execution.QueryExecution.toRdd(QueryExecution.scala:80)\n",
      "\tat org.apache.spark.sql.DataFrameWriter$$anonfun$runCommand$1.apply(DataFrameWriter.scala:676)\n",
      "\tat org.apache.spark.sql.DataFrameWriter$$anonfun$runCommand$1.apply(DataFrameWriter.scala:676)\n",
      "\tat org.apache.spark.sql.execution.SQLExecution$$anonfun$withNewExecutionId$1.apply(SQLExecution.scala:78)\n",
      "\tat org.apache.spark.sql.execution.SQLExecution$.withSQLConfPropagated(SQLExecution.scala:125)\n",
      "\tat org.apache.spark.sql.execution.SQLExecution$.withNewExecutionId(SQLExecution.scala:73)\n",
      "\tat org.apache.spark.sql.DataFrameWriter.runCommand(DataFrameWriter.scala:676)\n",
      "\tat org.apache.spark.sql.DataFrameWriter.saveToV1Source(DataFrameWriter.scala:285)\n",
      "\tat org.apache.spark.sql.DataFrameWriter.save(DataFrameWriter.scala:271)\n",
      "\tat org.apache.spark.sql.DataFrameWriter.save(DataFrameWriter.scala:229)\n",
      "\tat org.apache.spark.sql.DataFrameWriter.parquet(DataFrameWriter.scala:566)\n",
      "\tat sun.reflect.NativeMethodAccessorImpl.invoke0(Native Method)\n",
      "\tat sun.reflect.NativeMethodAccessorImpl.invoke(NativeMethodAccessorImpl.java:62)\n",
      "\tat sun.reflect.DelegatingMethodAccessorImpl.invoke(DelegatingMethodAccessorImpl.java:43)\n",
      "\tat java.lang.reflect.Method.invoke(Method.java:498)\n",
      "\tat py4j.reflection.MethodInvoker.invoke(MethodInvoker.java:244)\n",
      "\tat py4j.reflection.ReflectionEngine.invoke(ReflectionEngine.java:357)\n",
      "\tat py4j.Gateway.invoke(Gateway.java:282)\n",
      "\tat py4j.commands.AbstractCommand.invokeMethod(AbstractCommand.java:132)\n",
      "\tat py4j.commands.CallCommand.execute(CallCommand.java:79)\n",
      "\tat py4j.GatewayConnection.run(GatewayConnection.java:238)\n",
      "\tat java.lang.Thread.run(Thread.java:748)\n",
      "Caused by: org.apache.spark.SparkException: Job aborted due to stage failure: Task 5 in stage 1.0 failed 4 times, most recent failure: Lost task 5.3 in stage 1.0 (TID 16, ip-10-0-0-139.ec2.internal, executor 1): java.lang.ClassCastException: java.lang.Integer cannot be cast to java.lang.Long\n",
      "\tat scala.runtime.BoxesRunTime.unboxToLong(BoxesRunTime.java:105)\n",
      "\tat org.apache.spark.sql.catalyst.expressions.BaseGenericInternalRow$class.getLong(rows.scala:42)\n",
      "\tat org.apache.spark.sql.catalyst.expressions.GenericInternalRow.getLong(rows.scala:195)\n",
      "\tat org.apache.spark.sql.catalyst.expressions.GeneratedClass$SpecificUnsafeProjection.writeFields_16_2$(Unknown Source)\n",
      "\tat org.apache.spark.sql.catalyst.expressions.GeneratedClass$SpecificUnsafeProjection.apply(Unknown Source)\n",
      "\tat org.apache.spark.sql.catalyst.expressions.GeneratedClass$SpecificUnsafeProjection.apply(Unknown Source)\n",
      "\tat scala.collection.Iterator$$anon$11.next(Iterator.scala:410)\n",
      "\tat scala.collection.Iterator$$anon$13.hasNext(Iterator.scala:463)\n",
      "\tat org.apache.spark.sql.execution.datasources.FileFormatWriter$.org$apache$spark$sql$execution$datasources$FileFormatWriter$$executeTask(FileFormatWriter.scala:232)\n",
      "\tat org.apache.spark.sql.execution.datasources.FileFormatWriter$$anonfun$write$1.apply(FileFormatWriter.scala:170)\n",
      "\tat org.apache.spark.sql.execution.datasources.FileFormatWriter$$anonfun$write$1.apply(FileFormatWriter.scala:169)\n",
      "\tat org.apache.spark.scheduler.ResultTask.runTask(ResultTask.scala:90)\n",
      "\tat org.apache.spark.scheduler.Task.run(Task.scala:123)\n",
      "\tat org.apache.spark.executor.Executor$TaskRunner$$anonfun$10.apply(Executor.scala:408)\n",
      "\tat org.apache.spark.util.Utils$.tryWithSafeFinally(Utils.scala:1360)\n",
      "\tat org.apache.spark.executor.Executor$TaskRunner.run(Executor.scala:414)\n",
      "\tat java.util.concurrent.ThreadPoolExecutor.runWorker(ThreadPoolExecutor.java:1149)\n",
      "\tat java.util.concurrent.ThreadPoolExecutor$Worker.run(ThreadPoolExecutor.java:624)\n",
      "\tat java.lang.Thread.run(Thread.java:748)\n",
      "\n",
      "Driver stacktrace:\n",
      "\tat org.apache.spark.scheduler.DAGScheduler.org$apache$spark$scheduler$DAGScheduler$$failJobAndIndependentStages(DAGScheduler.scala:2041)\n",
      "\tat org.apache.spark.scheduler.DAGScheduler$$anonfun$abortStage$1.apply(DAGScheduler.scala:2029)\n",
      "\tat org.apache.spark.scheduler.DAGScheduler$$anonfun$abortStage$1.apply(DAGScheduler.scala:2028)\n",
      "\tat scala.collection.mutable.ResizableArray$class.foreach(ResizableArray.scala:59)\n",
      "\tat scala.collection.mutable.ArrayBuffer.foreach(ArrayBuffer.scala:48)\n",
      "\tat org.apache.spark.scheduler.DAGScheduler.abortStage(DAGScheduler.scala:2028)\n",
      "\tat org.apache.spark.scheduler.DAGScheduler$$anonfun$handleTaskSetFailed$1.apply(DAGScheduler.scala:966)\n",
      "\tat org.apache.spark.scheduler.DAGScheduler$$anonfun$handleTaskSetFailed$1.apply(DAGScheduler.scala:966)\n",
      "\tat scala.Option.foreach(Option.scala:257)\n",
      "\tat org.apache.spark.scheduler.DAGScheduler.handleTaskSetFailed(DAGScheduler.scala:966)\n",
      "\tat org.apache.spark.scheduler.DAGSchedulerEventProcessLoop.doOnReceive(DAGScheduler.scala:2262)\n",
      "\tat org.apache.spark.scheduler.DAGSchedulerEventProcessLoop.onReceive(DAGScheduler.scala:2211)\n",
      "\tat org.apache.spark.scheduler.DAGSchedulerEventProcessLoop.onReceive(DAGScheduler.scala:2200)\n",
      "\tat org.apache.spark.util.EventLoop$$anon$1.run(EventLoop.scala:49)\n",
      "\tat org.apache.spark.scheduler.DAGScheduler.runJob(DAGScheduler.scala:777)\n",
      "\tat org.apache.spark.SparkContext.runJob(SparkContext.scala:2061)\n",
      "\tat org.apache.spark.sql.execution.datasources.FileFormatWriter$.write(FileFormatWriter.scala:167)\n",
      "\t... 33 more\n",
      "Caused by: java.lang.ClassCastException: java.lang.Integer cannot be cast to java.lang.Long\n",
      "\tat scala.runtime.BoxesRunTime.unboxToLong(BoxesRunTime.java:105)\n",
      "\tat org.apache.spark.sql.catalyst.expressions.BaseGenericInternalRow$class.getLong(rows.scala:42)\n",
      "\tat org.apache.spark.sql.catalyst.expressions.GenericInternalRow.getLong(rows.scala:195)\n",
      "\tat org.apache.spark.sql.catalyst.expressions.GeneratedClass$SpecificUnsafeProjection.writeFields_16_2$(Unknown Source)\n",
      "\tat org.apache.spark.sql.catalyst.expressions.GeneratedClass$SpecificUnsafeProjection.apply(Unknown Source)\n",
      "\tat org.apache.spark.sql.catalyst.expressions.GeneratedClass$SpecificUnsafeProjection.apply(Unknown Source)\n",
      "\tat scala.collection.Iterator$$anon$11.next(Iterator.scala:410)\n",
      "\tat scala.collection.Iterator$$anon$13.hasNext(Iterator.scala:463)\n",
      "\tat org.apache.spark.sql.execution.datasources.FileFormatWriter$.org$apache$spark$sql$execution$datasources$FileFormatWriter$$executeTask(FileFormatWriter.scala:232)\n",
      "\tat org.apache.spark.sql.execution.datasources.FileFormatWriter$$anonfun$write$1.apply(FileFormatWriter.scala:170)\n",
      "\tat org.apache.spark.sql.execution.datasources.FileFormatWriter$$anonfun$write$1.apply(FileFormatWriter.scala:169)\n",
      "\tat org.apache.spark.scheduler.ResultTask.runTask(ResultTask.scala:90)\n",
      "\tat org.apache.spark.scheduler.Task.run(Task.scala:123)\n",
      "\tat org.apache.spark.executor.Executor$TaskRunner$$anonfun$10.apply(Executor.scala:408)\n",
      "\tat org.apache.spark.util.Utils$.tryWithSafeFinally(Utils.scala:1360)\n",
      "\tat org.apache.spark.executor.Executor$TaskRunner.run(Executor.scala:414)\n",
      "\tat java.util.concurrent.ThreadPoolExecutor.runWorker(ThreadPoolExecutor.java:1149)\n",
      "\tat java.util.concurrent.ThreadPoolExecutor$Worker.run(ThreadPoolExecutor.java:624)\n",
      "\t... 1 more\n",
      "\n",
      "Traceback (most recent call last):\n",
      "  File \"/usr/lib/spark/python/lib/pyspark.zip/pyspark/sql/readwriter.py\", line 843, in parquet\n",
      "    self._jwrite.parquet(path)\n",
      "  File \"/usr/lib/spark/python/lib/py4j-0.10.7-src.zip/py4j/java_gateway.py\", line 1257, in __call__\n",
      "    answer, self.gateway_client, self.target_id, self.name)\n",
      "  File \"/usr/lib/spark/python/lib/pyspark.zip/pyspark/sql/utils.py\", line 63, in deco\n",
      "    return f(*a, **kw)\n",
      "  File \"/usr/lib/spark/python/lib/py4j-0.10.7-src.zip/py4j/protocol.py\", line 328, in get_return_value\n",
      "    format(target_id, \".\", name), value)\n",
      "Py4JJavaError: An error occurred while calling o98.parquet.\n",
      ": org.apache.spark.SparkException: Job aborted.\n",
      "\tat org.apache.spark.sql.execution.datasources.FileFormatWriter$.write(FileFormatWriter.scala:198)\n",
      "\tat org.apache.spark.sql.execution.datasources.InsertIntoHadoopFsRelationCommand.run(InsertIntoHadoopFsRelationCommand.scala:159)\n",
      "\tat org.apache.spark.sql.execution.command.DataWritingCommandExec.sideEffectResult$lzycompute(commands.scala:104)\n",
      "\tat org.apache.spark.sql.execution.command.DataWritingCommandExec.sideEffectResult(commands.scala:102)\n",
      "\tat org.apache.spark.sql.execution.command.DataWritingCommandExec.doExecute(commands.scala:122)\n",
      "\tat org.apache.spark.sql.execution.SparkPlan$$anonfun$execute$1.apply(SparkPlan.scala:131)\n",
      "\tat org.apache.spark.sql.execution.SparkPlan$$anonfun$execute$1.apply(SparkPlan.scala:127)\n",
      "\tat org.apache.spark.sql.execution.SparkPlan$$anonfun$executeQuery$1.apply(SparkPlan.scala:156)\n",
      "\tat org.apache.spark.rdd.RDDOperationScope$.withScope(RDDOperationScope.scala:151)\n",
      "\tat org.apache.spark.sql.execution.SparkPlan.executeQuery(SparkPlan.scala:152)\n",
      "\tat org.apache.spark.sql.execution.SparkPlan.execute(SparkPlan.scala:127)\n",
      "\tat org.apache.spark.sql.execution.QueryExecution.toRdd$lzycompute(QueryExecution.scala:80)\n",
      "\tat org.apache.spark.sql.execution.QueryExecution.toRdd(QueryExecution.scala:80)\n",
      "\tat org.apache.spark.sql.DataFrameWriter$$anonfun$runCommand$1.apply(DataFrameWriter.scala:676)\n",
      "\tat org.apache.spark.sql.DataFrameWriter$$anonfun$runCommand$1.apply(DataFrameWriter.scala:676)\n",
      "\tat org.apache.spark.sql.execution.SQLExecution$$anonfun$withNewExecutionId$1.apply(SQLExecution.scala:78)\n",
      "\tat org.apache.spark.sql.execution.SQLExecution$.withSQLConfPropagated(SQLExecution.scala:125)\n",
      "\tat org.apache.spark.sql.execution.SQLExecution$.withNewExecutionId(SQLExecution.scala:73)\n",
      "\tat org.apache.spark.sql.DataFrameWriter.runCommand(DataFrameWriter.scala:676)\n",
      "\tat org.apache.spark.sql.DataFrameWriter.saveToV1Source(DataFrameWriter.scala:285)\n",
      "\tat org.apache.spark.sql.DataFrameWriter.save(DataFrameWriter.scala:271)\n",
      "\tat org.apache.spark.sql.DataFrameWriter.save(DataFrameWriter.scala:229)\n",
      "\tat org.apache.spark.sql.DataFrameWriter.parquet(DataFrameWriter.scala:566)\n",
      "\tat sun.reflect.NativeMethodAccessorImpl.invoke0(Native Method)\n",
      "\tat sun.reflect.NativeMethodAccessorImpl.invoke(NativeMethodAccessorImpl.java:62)\n",
      "\tat sun.reflect.DelegatingMethodAccessorImpl.invoke(DelegatingMethodAccessorImpl.java:43)\n",
      "\tat java.lang.reflect.Method.invoke(Method.java:498)\n",
      "\tat py4j.reflection.MethodInvoker.invoke(MethodInvoker.java:244)\n",
      "\tat py4j.reflection.ReflectionEngine.invoke(ReflectionEngine.java:357)\n",
      "\tat py4j.Gateway.invoke(Gateway.java:282)\n",
      "\tat py4j.commands.AbstractCommand.invokeMethod(AbstractCommand.java:132)\n",
      "\tat py4j.commands.CallCommand.execute(CallCommand.java:79)\n",
      "\tat py4j.GatewayConnection.run(GatewayConnection.java:238)\n",
      "\tat java.lang.Thread.run(Thread.java:748)\n",
      "Caused by: org.apache.spark.SparkException: Job aborted due to stage failure: Task 5 in stage 1.0 failed 4 times, most recent failure: Lost task 5.3 in stage 1.0 (TID 16, ip-10-0-0-139.ec2.internal, executor 1): java.lang.ClassCastException: java.lang.Integer cannot be cast to java.lang.Long\n",
      "\tat scala.runtime.BoxesRunTime.unboxToLong(BoxesRunTime.java:105)\n",
      "\tat org.apache.spark.sql.catalyst.expressions.BaseGenericInternalRow$class.getLong(rows.scala:42)\n",
      "\tat org.apache.spark.sql.catalyst.expressions.GenericInternalRow.getLong(rows.scala:195)\n",
      "\tat org.apache.spark.sql.catalyst.expressions.GeneratedClass$SpecificUnsafeProjection.writeFields_16_2$(Unknown Source)\n",
      "\tat org.apache.spark.sql.catalyst.expressions.GeneratedClass$SpecificUnsafeProjection.apply(Unknown Source)\n",
      "\tat org.apache.spark.sql.catalyst.expressions.GeneratedClass$SpecificUnsafeProjection.apply(Unknown Source)\n",
      "\tat scala.collection.Iterator$$anon$11.next(Iterator.scala:410)\n",
      "\tat scala.collection.Iterator$$anon$13.hasNext(Iterator.scala:463)\n",
      "\tat org.apache.spark.sql.execution.datasources.FileFormatWriter$.org$apache$spark$sql$execution$datasources$FileFormatWriter$$executeTask(FileFormatWriter.scala:232)\n",
      "\tat org.apache.spark.sql.execution.datasources.FileFormatWriter$$anonfun$write$1.apply(FileFormatWriter.scala:170)\n",
      "\tat org.apache.spark.sql.execution.datasources.FileFormatWriter$$anonfun$write$1.apply(FileFormatWriter.scala:169)\n",
      "\tat org.apache.spark.scheduler.ResultTask.runTask(ResultTask.scala:90)\n",
      "\tat org.apache.spark.scheduler.Task.run(Task.scala:123)\n",
      "\tat org.apache.spark.executor.Executor$TaskRunner$$anonfun$10.apply(Executor.scala:408)\n",
      "\tat org.apache.spark.util.Utils$.tryWithSafeFinally(Utils.scala:1360)\n",
      "\tat org.apache.spark.executor.Executor$TaskRunner.run(Executor.scala:414)\n",
      "\tat java.util.concurrent.ThreadPoolExecutor.runWorker(ThreadPoolExecutor.java:1149)\n",
      "\tat java.util.concurrent.ThreadPoolExecutor$Worker.run(ThreadPoolExecutor.java:624)\n",
      "\tat java.lang.Thread.run(Thread.java:748)\n",
      "\n",
      "Driver stacktrace:\n",
      "\tat org.apache.spark.scheduler.DAGScheduler.org$apache$spark$scheduler$DAGScheduler$$failJobAndIndependentStages(DAGScheduler.scala:2041)\n",
      "\tat org.apache.spark.scheduler.DAGScheduler$$anonfun$abortStage$1.apply(DAGScheduler.scala:2029)\n",
      "\tat org.apache.spark.scheduler.DAGScheduler$$anonfun$abortStage$1.apply(DAGScheduler.scala:2028)\n",
      "\tat scala.collection.mutable.ResizableArray$class.foreach(ResizableArray.scala:59)\n",
      "\tat scala.collection.mutable.ArrayBuffer.foreach(ArrayBuffer.scala:48)\n",
      "\tat org.apache.spark.scheduler.DAGScheduler.abortStage(DAGScheduler.scala:2028)\n",
      "\tat org.apache.spark.scheduler.DAGScheduler$$anonfun$handleTaskSetFailed$1.apply(DAGScheduler.scala:966)\n",
      "\tat org.apache.spark.scheduler.DAGScheduler$$anonfun$handleTaskSetFailed$1.apply(DAGScheduler.scala:966)\n",
      "\tat scala.Option.foreach(Option.scala:257)\n",
      "\tat org.apache.spark.scheduler.DAGScheduler.handleTaskSetFailed(DAGScheduler.scala:966)\n",
      "\tat org.apache.spark.scheduler.DAGSchedulerEventProcessLoop.doOnReceive(DAGScheduler.scala:2262)\n",
      "\tat org.apache.spark.scheduler.DAGSchedulerEventProcessLoop.onReceive(DAGScheduler.scala:2211)\n",
      "\tat org.apache.spark.scheduler.DAGSchedulerEventProcessLoop.onReceive(DAGScheduler.scala:2200)\n",
      "\tat org.apache.spark.util.EventLoop$$anon$1.run(EventLoop.scala:49)\n",
      "\tat org.apache.spark.scheduler.DAGScheduler.runJob(DAGScheduler.scala:777)\n",
      "\tat org.apache.spark.SparkContext.runJob(SparkContext.scala:2061)\n",
      "\tat org.apache.spark.sql.execution.datasources.FileFormatWriter$.write(FileFormatWriter.scala:167)\n",
      "\t... 33 more\n",
      "Caused by: java.lang.ClassCastException: java.lang.Integer cannot be cast to java.lang.Long\n",
      "\tat scala.runtime.BoxesRunTime.unboxToLong(BoxesRunTime.java:105)\n",
      "\tat org.apache.spark.sql.catalyst.expressions.BaseGenericInternalRow$class.getLong(rows.scala:42)\n",
      "\tat org.apache.spark.sql.catalyst.expressions.GenericInternalRow.getLong(rows.scala:195)\n",
      "\tat org.apache.spark.sql.catalyst.expressions.GeneratedClass$SpecificUnsafeProjection.writeFields_16_2$(Unknown Source)\n",
      "\tat org.apache.spark.sql.catalyst.expressions.GeneratedClass$SpecificUnsafeProjection.apply(Unknown Source)\n",
      "\tat org.apache.spark.sql.catalyst.expressions.GeneratedClass$SpecificUnsafeProjection.apply(Unknown Source)\n",
      "\tat scala.collection.Iterator$$anon$11.next(Iterator.scala:410)\n",
      "\tat scala.collection.Iterator$$anon$13.hasNext(Iterator.scala:463)\n",
      "\tat org.apache.spark.sql.execution.datasources.FileFormatWriter$.org$apache$spark$sql$execution$datasources$FileFormatWriter$$executeTask(FileFormatWriter.scala:232)\n",
      "\tat org.apache.spark.sql.execution.datasources.FileFormatWriter$$anonfun$write$1.apply(FileFormatWriter.scala:170)\n",
      "\tat org.apache.spark.sql.execution.datasources.FileFormatWriter$$anonfun$write$1.apply(FileFormatWriter.scala:169)\n",
      "\tat org.apache.spark.scheduler.ResultTask.runTask(ResultTask.scala:90)\n",
      "\tat org.apache.spark.scheduler.Task.run(Task.scala:123)\n",
      "\tat org.apache.spark.executor.Executor$TaskRunner$$anonfun$10.apply(Executor.scala:408)\n",
      "\tat org.apache.spark.util.Utils$.tryWithSafeFinally(Utils.scala:1360)\n",
      "\tat org.apache.spark.executor.Executor$TaskRunner.run(Executor.scala:414)\n",
      "\tat java.util.concurrent.ThreadPoolExecutor.runWorker(ThreadPoolExecutor.java:1149)\n",
      "\tat java.util.concurrent.ThreadPoolExecutor$Worker.run(ThreadPoolExecutor.java:624)\n",
      "\t... 1 more\n",
      "\n",
      "\n"
     ]
    }
   ],
   "source": [
    "df_from_ddb.sample(fraction=0.000001, seed=42).write.parquet('s3://jwyant-tpcds/test/tpcds/ddb/store_sales')"
   ]
  }
 ],
 "metadata": {
  "kernelspec": {
   "display_name": "PySpark",
   "language": "",
   "name": "pysparkkernel"
  },
  "language_info": {
   "codemirror_mode": {
    "name": "python",
    "version": 2
   },
   "mimetype": "text/x-python",
   "name": "pyspark",
   "pygments_lexer": "python2"
  }
 },
 "nbformat": 4,
 "nbformat_minor": 4
}
