{
 "cells": [
  {
   "cell_type": "code",
   "execution_count": 1,
   "metadata": {},
   "outputs": [
    {
     "data": {
      "text/html": [
       "Current session configs: <tt>{'conf': {'spark.jars.packages': 'com.audienceproject:spark-dynamodb_2.11:1.0.4'}, 'kind': 'pyspark'}</tt><br>"
      ],
      "text/plain": [
       "<IPython.core.display.HTML object>"
      ]
     },
     "metadata": {},
     "output_type": "display_data"
    },
    {
     "data": {
      "text/html": [
       "No active sessions."
      ],
      "text/plain": [
       "<IPython.core.display.HTML object>"
      ]
     },
     "metadata": {},
     "output_type": "display_data"
    }
   ],
   "source": [
    "%%configure -f \n",
    "{\n",
    "    \"conf\": {\n",
    "                \"spark.jars.packages\":\"com.audienceproject:spark-dynamodb_2.11:1.0.4\"\n",
    "            }\n",
    "}"
   ]
  },
  {
   "cell_type": "code",
   "execution_count": 2,
   "metadata": {},
   "outputs": [
    {
     "data": {
      "application/vnd.jupyter.widget-view+json": {
       "model_id": "7c9e8c9ab0024a3c977c8bd516447fba",
       "version_major": 2,
       "version_minor": 0
      },
      "text/plain": [
       "VBox()"
      ]
     },
     "metadata": {},
     "output_type": "display_data"
    },
    {
     "name": "stdout",
     "output_type": "stream",
     "text": [
      "Starting Spark application\n"
     ]
    },
    {
     "data": {
      "text/html": [
       "<table>\n",
       "<tr><th>ID</th><th>YARN Application ID</th><th>Kind</th><th>State</th><th>Spark UI</th><th>Driver log</th><th>Current session?</th></tr><tr><td>9</td><td>application_1588708823081_0009</td><td>pyspark</td><td>idle</td><td><a target=\"_blank\" href=\"http://ip-10-0-1-199.ec2.internal:20888/proxy/application_1588708823081_0009/\">Link</a></td><td><a target=\"_blank\" href=\"http://ip-10-0-0-94.ec2.internal:8042/node/containerlogs/container_1588708823081_0009_01_000001/livy\">Link</a></td><td>✔</td></tr></table>"
      ],
      "text/plain": [
       "<IPython.core.display.HTML object>"
      ]
     },
     "metadata": {},
     "output_type": "display_data"
    },
    {
     "data": {
      "application/vnd.jupyter.widget-view+json": {
       "model_id": "",
       "version_major": 2,
       "version_minor": 0
      },
      "text/plain": [
       "FloatProgress(value=0.0, bar_style='info', description='Progress:', layout=Layout(height='25px', width='50%'),…"
      ]
     },
     "metadata": {},
     "output_type": "display_data"
    },
    {
     "name": "stdout",
     "output_type": "stream",
     "text": [
      "SparkSession available as 'spark'.\n"
     ]
    },
    {
     "data": {
      "application/vnd.jupyter.widget-view+json": {
       "model_id": "",
       "version_major": 2,
       "version_minor": 0
      },
      "text/plain": [
       "FloatProgress(value=0.0, bar_style='info', description='Progress:', layout=Layout(height='25px', width='50%'),…"
      ]
     },
     "metadata": {},
     "output_type": "display_data"
    }
   ],
   "source": [
    "df = spark.read.parquet('s3://jwyant-tpcds/nested/tpcds/parquet/store_sales')"
   ]
  },
  {
   "cell_type": "code",
   "execution_count": 3,
   "metadata": {},
   "outputs": [
    {
     "data": {
      "application/vnd.jupyter.widget-view+json": {
       "model_id": "92ed5278694b4ca2ac33a11872b04be6",
       "version_major": 2,
       "version_minor": 0
      },
      "text/plain": [
       "VBox()"
      ]
     },
     "metadata": {},
     "output_type": "display_data"
    },
    {
     "data": {
      "application/vnd.jupyter.widget-view+json": {
       "model_id": "",
       "version_major": 2,
       "version_minor": 0
      },
      "text/plain": [
       "FloatProgress(value=0.0, bar_style='info', description='Progress:', layout=Layout(height='25px', width='50%'),…"
      ]
     },
     "metadata": {},
     "output_type": "display_data"
    }
   ],
   "source": [
    "df_filtered = df.filter(df.ss_sold_date_sk == 2450816)"
   ]
  },
  {
   "cell_type": "code",
   "execution_count": 4,
   "metadata": {},
   "outputs": [
    {
     "data": {
      "application/vnd.jupyter.widget-view+json": {
       "model_id": "086f8f966de2469489520cab75df0e59",
       "version_major": 2,
       "version_minor": 0
      },
      "text/plain": [
       "VBox()"
      ]
     },
     "metadata": {},
     "output_type": "display_data"
    },
    {
     "data": {
      "application/vnd.jupyter.widget-view+json": {
       "model_id": "",
       "version_major": 2,
       "version_minor": 0
      },
      "text/plain": [
       "FloatProgress(value=0.0, bar_style='info', description='Progress:', layout=Layout(height='25px', width='50%'),…"
      ]
     },
     "metadata": {},
     "output_type": "display_data"
    },
    {
     "name": "stdout",
     "output_type": "stream",
     "text": [
      "root\n",
      " |-- ss_customer_sk: integer (nullable = true)\n",
      " |-- ss_addr_sk: integer (nullable = true)\n",
      " |-- ss_item_sk: integer (nullable = true)\n",
      " |-- ss_hdemo_sk: integer (nullable = true)\n",
      " |-- ss_promo_sk: integer (nullable = true)\n",
      " |-- ss_store_sk: integer (nullable = true)\n",
      " |-- ss_sold_time_sk: integer (nullable = true)\n",
      " |-- ss_cdemo_sk: integer (nullable = true)\n",
      " |-- ss_ticket_number: integer (nullable = true)\n",
      " |-- ss_quantity: integer (nullable = true)\n",
      " |-- ss_wholesale_cost: double (nullable = true)\n",
      " |-- ss_list_price: double (nullable = true)\n",
      " |-- ss_sales_price: double (nullable = true)\n",
      " |-- ss_ext_discount_amt: double (nullable = true)\n",
      " |-- ss_ext_sales_price: double (nullable = true)\n",
      " |-- ss_ext_wholesale_cost: double (nullable = true)\n",
      " |-- ss_ext_list_price: double (nullable = true)\n",
      " |-- ss_ext_tax: double (nullable = true)\n",
      " |-- ss_coupon_amt: double (nullable = true)\n",
      " |-- ss_net_paid: double (nullable = true)\n",
      " |-- ss_net_paid_inc_tax: double (nullable = true)\n",
      " |-- ss_net_profit: double (nullable = true)\n",
      " |-- ss_customer_demographics: struct (nullable = true)\n",
      " |    |-- cd_gender: string (nullable = true)\n",
      " |    |-- cd_marital_status: string (nullable = true)\n",
      " |    |-- cd_education_status: string (nullable = true)\n",
      " |    |-- cd_purchase_estimate: integer (nullable = true)\n",
      " |    |-- cd_credit_rating: string (nullable = true)\n",
      " |    |-- cd_dep_count: integer (nullable = true)\n",
      " |    |-- cd_dep_employed_count: integer (nullable = true)\n",
      " |    |-- cd_dep_college_count: integer (nullable = true)\n",
      " |-- ss_date_dim: struct (nullable = true)\n",
      " |    |-- d_date_id: string (nullable = true)\n",
      " |    |-- d_date: timestamp (nullable = true)\n",
      " |    |-- d_month_seq: integer (nullable = true)\n",
      " |    |-- d_week_seq: integer (nullable = true)\n",
      " |    |-- d_quarter_seq: integer (nullable = true)\n",
      " |    |-- d_year: integer (nullable = true)\n",
      " |    |-- d_dow: integer (nullable = true)\n",
      " |    |-- d_moy: integer (nullable = true)\n",
      " |    |-- d_dom: integer (nullable = true)\n",
      " |    |-- d_qoy: integer (nullable = true)\n",
      " |    |-- d_fy_year: integer (nullable = true)\n",
      " |    |-- d_fy_quarter_seq: integer (nullable = true)\n",
      " |    |-- d_fy_week_seq: integer (nullable = true)\n",
      " |    |-- d_day_name: string (nullable = true)\n",
      " |    |-- d_quarter_name: string (nullable = true)\n",
      " |    |-- d_holiday: string (nullable = true)\n",
      " |    |-- d_weekend: string (nullable = true)\n",
      " |    |-- d_following_holiday: string (nullable = true)\n",
      " |    |-- d_first_dom: integer (nullable = true)\n",
      " |    |-- d_last_dom: integer (nullable = true)\n",
      " |    |-- d_same_day_ly: integer (nullable = true)\n",
      " |    |-- d_same_day_lq: integer (nullable = true)\n",
      " |    |-- d_current_day: string (nullable = true)\n",
      " |    |-- d_current_week: string (nullable = true)\n",
      " |    |-- d_current_month: string (nullable = true)\n",
      " |    |-- d_current_quarter: string (nullable = true)\n",
      " |    |-- d_current_year: string (nullable = true)\n",
      " |-- ss_time_dim: struct (nullable = true)\n",
      " |    |-- t_time_id: string (nullable = true)\n",
      " |    |-- t_time: integer (nullable = true)\n",
      " |    |-- t_hour: integer (nullable = true)\n",
      " |    |-- t_minute: integer (nullable = true)\n",
      " |    |-- t_second: integer (nullable = true)\n",
      " |    |-- t_am_pm: string (nullable = true)\n",
      " |    |-- t_shift: string (nullable = true)\n",
      " |    |-- t_sub_shift: string (nullable = true)\n",
      " |    |-- t_meal_time: string (nullable = true)\n",
      " |-- ss_store: struct (nullable = true)\n",
      " |    |-- s_closed_date_sk: integer (nullable = true)\n",
      " |    |-- s_store_id: string (nullable = true)\n",
      " |    |-- s_rec_start_date: timestamp (nullable = true)\n",
      " |    |-- s_rec_end_date: timestamp (nullable = true)\n",
      " |    |-- s_store_name: string (nullable = true)\n",
      " |    |-- s_number_employees: integer (nullable = true)\n",
      " |    |-- s_floor_space: integer (nullable = true)\n",
      " |    |-- s_hours: string (nullable = true)\n",
      " |    |-- s_manager: string (nullable = true)\n",
      " |    |-- s_market_id: integer (nullable = true)\n",
      " |    |-- s_geography_class: string (nullable = true)\n",
      " |    |-- s_market_desc: string (nullable = true)\n",
      " |    |-- s_market_manager: string (nullable = true)\n",
      " |    |-- s_division_id: integer (nullable = true)\n",
      " |    |-- s_division_name: string (nullable = true)\n",
      " |    |-- s_company_id: integer (nullable = true)\n",
      " |    |-- s_company_name: string (nullable = true)\n",
      " |    |-- s_street_number: string (nullable = true)\n",
      " |    |-- s_street_name: string (nullable = true)\n",
      " |    |-- s_street_type: string (nullable = true)\n",
      " |    |-- s_suite_number: string (nullable = true)\n",
      " |    |-- s_city: string (nullable = true)\n",
      " |    |-- s_county: string (nullable = true)\n",
      " |    |-- s_state: string (nullable = true)\n",
      " |    |-- s_zip: string (nullable = true)\n",
      " |    |-- s_country: string (nullable = true)\n",
      " |    |-- s_gmt_offset: double (nullable = true)\n",
      " |    |-- s_tax_precentage: double (nullable = true)\n",
      " |    |-- s_closed_date: struct (nullable = true)\n",
      " |    |    |-- d_date_id: string (nullable = true)\n",
      " |    |    |-- d_date: timestamp (nullable = true)\n",
      " |    |    |-- d_month_seq: integer (nullable = true)\n",
      " |    |    |-- d_week_seq: integer (nullable = true)\n",
      " |    |    |-- d_quarter_seq: integer (nullable = true)\n",
      " |    |    |-- d_year: integer (nullable = true)\n",
      " |    |    |-- d_dow: integer (nullable = true)\n",
      " |    |    |-- d_moy: integer (nullable = true)\n",
      " |    |    |-- d_dom: integer (nullable = true)\n",
      " |    |    |-- d_qoy: integer (nullable = true)\n",
      " |    |    |-- d_fy_year: integer (nullable = true)\n",
      " |    |    |-- d_fy_quarter_seq: integer (nullable = true)\n",
      " |    |    |-- d_fy_week_seq: integer (nullable = true)\n",
      " |    |    |-- d_day_name: string (nullable = true)\n",
      " |    |    |-- d_quarter_name: string (nullable = true)\n",
      " |    |    |-- d_holiday: string (nullable = true)\n",
      " |    |    |-- d_weekend: string (nullable = true)\n",
      " |    |    |-- d_following_holiday: string (nullable = true)\n",
      " |    |    |-- d_first_dom: integer (nullable = true)\n",
      " |    |    |-- d_last_dom: integer (nullable = true)\n",
      " |    |    |-- d_same_day_ly: integer (nullable = true)\n",
      " |    |    |-- d_same_day_lq: integer (nullable = true)\n",
      " |    |    |-- d_current_day: string (nullable = true)\n",
      " |    |    |-- d_current_week: string (nullable = true)\n",
      " |    |    |-- d_current_month: string (nullable = true)\n",
      " |    |    |-- d_current_quarter: string (nullable = true)\n",
      " |    |    |-- d_current_year: string (nullable = true)\n",
      " |-- ss_promotion: struct (nullable = true)\n",
      " |    |-- p_end_date_sk: integer (nullable = true)\n",
      " |    |-- p_start_date_sk: integer (nullable = true)\n",
      " |    |-- p_item_sk: integer (nullable = true)\n",
      " |    |-- p_promo_id: string (nullable = true)\n",
      " |    |-- p_cost: double (nullable = true)\n",
      " |    |-- p_response_target: integer (nullable = true)\n",
      " |    |-- p_promo_name: string (nullable = true)\n",
      " |    |-- p_channel_dmail: string (nullable = true)\n",
      " |    |-- p_channel_email: string (nullable = true)\n",
      " |    |-- p_channel_catalog: string (nullable = true)\n",
      " |    |-- p_channel_tv: string (nullable = true)\n",
      " |    |-- p_channel_radio: string (nullable = true)\n",
      " |    |-- p_channel_press: string (nullable = true)\n",
      " |    |-- p_channel_event: string (nullable = true)\n",
      " |    |-- p_channel_demo: string (nullable = true)\n",
      " |    |-- p_channel_details: string (nullable = true)\n",
      " |    |-- p_purpose: string (nullable = true)\n",
      " |    |-- p_discount_active: string (nullable = true)\n",
      " |    |-- p_item: struct (nullable = true)\n",
      " |    |    |-- i_item_id: string (nullable = true)\n",
      " |    |    |-- i_rec_start_date: timestamp (nullable = true)\n",
      " |    |    |-- i_rec_end_date: timestamp (nullable = true)\n",
      " |    |    |-- i_item_desc: string (nullable = true)\n",
      " |    |    |-- i_current_price: double (nullable = true)\n",
      " |    |    |-- i_wholesale_cost: double (nullable = true)\n",
      " |    |    |-- i_brand_id: integer (nullable = true)\n",
      " |    |    |-- i_brand: string (nullable = true)\n",
      " |    |    |-- i_class_id: integer (nullable = true)\n",
      " |    |    |-- i_class: string (nullable = true)\n",
      " |    |    |-- i_category_id: integer (nullable = true)\n",
      " |    |    |-- i_manufact_id: integer (nullable = true)\n",
      " |    |    |-- i_manufact: string (nullable = true)\n",
      " |    |    |-- i_size: string (nullable = true)\n",
      " |    |    |-- i_formulation: string (nullable = true)\n",
      " |    |    |-- i_color: string (nullable = true)\n",
      " |    |    |-- i_units: string (nullable = true)\n",
      " |    |    |-- i_container: string (nullable = true)\n",
      " |    |    |-- i_manager_id: integer (nullable = true)\n",
      " |    |    |-- i_product_name: string (nullable = true)\n",
      " |    |    |-- i_category: string (nullable = true)\n",
      " |    |-- p_start_date: struct (nullable = true)\n",
      " |    |    |-- d_date_id: string (nullable = true)\n",
      " |    |    |-- d_date: timestamp (nullable = true)\n",
      " |    |    |-- d_month_seq: integer (nullable = true)\n",
      " |    |    |-- d_week_seq: integer (nullable = true)\n",
      " |    |    |-- d_quarter_seq: integer (nullable = true)\n",
      " |    |    |-- d_year: integer (nullable = true)\n",
      " |    |    |-- d_dow: integer (nullable = true)\n",
      " |    |    |-- d_moy: integer (nullable = true)\n",
      " |    |    |-- d_dom: integer (nullable = true)\n",
      " |    |    |-- d_qoy: integer (nullable = true)\n",
      " |    |    |-- d_fy_year: integer (nullable = true)\n",
      " |    |    |-- d_fy_quarter_seq: integer (nullable = true)\n",
      " |    |    |-- d_fy_week_seq: integer (nullable = true)\n",
      " |    |    |-- d_day_name: string (nullable = true)\n",
      " |    |    |-- d_quarter_name: string (nullable = true)\n",
      " |    |    |-- d_holiday: string (nullable = true)\n",
      " |    |    |-- d_weekend: string (nullable = true)\n",
      " |    |    |-- d_following_holiday: string (nullable = true)\n",
      " |    |    |-- d_first_dom: integer (nullable = true)\n",
      " |    |    |-- d_last_dom: integer (nullable = true)\n",
      " |    |    |-- d_same_day_ly: integer (nullable = true)\n",
      " |    |    |-- d_same_day_lq: integer (nullable = true)\n",
      " |    |    |-- d_current_day: string (nullable = true)\n",
      " |    |    |-- d_current_week: string (nullable = true)\n",
      " |    |    |-- d_current_month: string (nullable = true)\n",
      " |    |    |-- d_current_quarter: string (nullable = true)\n",
      " |    |    |-- d_current_year: string (nullable = true)\n",
      " |    |-- p_end_date: struct (nullable = true)\n",
      " |    |    |-- d_date_id: string (nullable = true)\n",
      " |    |    |-- d_date: timestamp (nullable = true)\n",
      " |    |    |-- d_month_seq: integer (nullable = true)\n",
      " |    |    |-- d_week_seq: integer (nullable = true)\n",
      " |    |    |-- d_quarter_seq: integer (nullable = true)\n",
      " |    |    |-- d_year: integer (nullable = true)\n",
      " |    |    |-- d_dow: integer (nullable = true)\n",
      " |    |    |-- d_moy: integer (nullable = true)\n",
      " |    |    |-- d_dom: integer (nullable = true)\n",
      " |    |    |-- d_qoy: integer (nullable = true)\n",
      " |    |    |-- d_fy_year: integer (nullable = true)\n",
      " |    |    |-- d_fy_quarter_seq: integer (nullable = true)\n",
      " |    |    |-- d_fy_week_seq: integer (nullable = true)\n",
      " |    |    |-- d_day_name: string (nullable = true)\n",
      " |    |    |-- d_quarter_name: string (nullable = true)\n",
      " |    |    |-- d_holiday: string (nullable = true)\n",
      " |    |    |-- d_weekend: string (nullable = true)\n",
      " |    |    |-- d_following_holiday: string (nullable = true)\n",
      " |    |    |-- d_first_dom: integer (nullable = true)\n",
      " |    |    |-- d_last_dom: integer (nullable = true)\n",
      " |    |    |-- d_same_day_ly: integer (nullable = true)\n",
      " |    |    |-- d_same_day_lq: integer (nullable = true)\n",
      " |    |    |-- d_current_day: string (nullable = true)\n",
      " |    |    |-- d_current_week: string (nullable = true)\n",
      " |    |    |-- d_current_month: string (nullable = true)\n",
      " |    |    |-- d_current_quarter: string (nullable = true)\n",
      " |    |    |-- d_current_year: string (nullable = true)\n",
      " |-- ss_household_demographics: struct (nullable = true)\n",
      " |    |-- hd_income_band_sk: integer (nullable = true)\n",
      " |    |-- hd_buy_potential: string (nullable = true)\n",
      " |    |-- hd_dep_count: integer (nullable = true)\n",
      " |    |-- hd_vehicle_count: integer (nullable = true)\n",
      " |    |-- hd_income_band: struct (nullable = true)\n",
      " |    |    |-- ib_lower_bound: integer (nullable = true)\n",
      " |    |    |-- ib_upper_bound: integer (nullable = true)\n",
      " |-- ss_item: struct (nullable = true)\n",
      " |    |-- i_item_id: string (nullable = true)\n",
      " |    |-- i_rec_start_date: timestamp (nullable = true)\n",
      " |    |-- i_rec_end_date: timestamp (nullable = true)\n",
      " |    |-- i_item_desc: string (nullable = true)\n",
      " |    |-- i_current_price: double (nullable = true)\n",
      " |    |-- i_wholesale_cost: double (nullable = true)\n",
      " |    |-- i_brand_id: integer (nullable = true)\n",
      " |    |-- i_brand: string (nullable = true)\n",
      " |    |-- i_class_id: integer (nullable = true)\n",
      " |    |-- i_class: string (nullable = true)\n",
      " |    |-- i_category_id: integer (nullable = true)\n",
      " |    |-- i_manufact_id: integer (nullable = true)\n",
      " |    |-- i_manufact: string (nullable = true)\n",
      " |    |-- i_size: string (nullable = true)\n",
      " |    |-- i_formulation: string (nullable = true)\n",
      " |    |-- i_color: string (nullable = true)\n",
      " |    |-- i_units: string (nullable = true)\n",
      " |    |-- i_container: string (nullable = true)\n",
      " |    |-- i_manager_id: integer (nullable = true)\n",
      " |    |-- i_product_name: string (nullable = true)\n",
      " |    |-- i_category: string (nullable = true)\n",
      " |-- ss_customer_address: struct (nullable = true)\n",
      " |    |-- ca_address_id: string (nullable = true)\n",
      " |    |-- ca_street_number: string (nullable = true)\n",
      " |    |-- ca_street_name: string (nullable = true)\n",
      " |    |-- ca_street_type: string (nullable = true)\n",
      " |    |-- ca_suite_number: string (nullable = true)\n",
      " |    |-- ca_city: string (nullable = true)\n",
      " |    |-- ca_county: string (nullable = true)\n",
      " |    |-- ca_state: string (nullable = true)\n",
      " |    |-- ca_zip: string (nullable = true)\n",
      " |    |-- ca_country: string (nullable = true)\n",
      " |    |-- ca_gmt_offset: double (nullable = true)\n",
      " |    |-- ca_location_type: string (nullable = true)\n",
      " |-- ss_customer: struct (nullable = true)\n",
      " |    |-- c_current_hdemo_sk: integer (nullable = true)\n",
      " |    |-- c_last_review_date_sk: integer (nullable = true)\n",
      " |    |-- c_first_sales_date_sk: integer (nullable = true)\n",
      " |    |-- c_first_shipto_date_sk: integer (nullable = true)\n",
      " |    |-- c_current_addr_sk: integer (nullable = true)\n",
      " |    |-- c_current_cdemo_sk: integer (nullable = true)\n",
      " |    |-- c_customer_id: string (nullable = true)\n",
      " |    |-- c_salutation: string (nullable = true)\n",
      " |    |-- c_first_name: string (nullable = true)\n",
      " |    |-- c_last_name: string (nullable = true)\n",
      " |    |-- c_preferred_cust_flag: string (nullable = true)\n",
      " |    |-- c_birth_day: integer (nullable = true)\n",
      " |    |-- c_birth_month: integer (nullable = true)\n",
      " |    |-- c_birth_year: integer (nullable = true)\n",
      " |    |-- c_birth_country: string (nullable = true)\n",
      " |    |-- c_login: string (nullable = true)\n",
      " |    |-- c_email_address: string (nullable = true)\n",
      " |    |-- c_current_customer_demographics: struct (nullable = true)\n",
      " |    |    |-- cd_gender: string (nullable = true)\n",
      " |    |    |-- cd_marital_status: string (nullable = true)\n",
      " |    |    |-- cd_education_status: string (nullable = true)\n",
      " |    |    |-- cd_purchase_estimate: integer (nullable = true)\n",
      " |    |    |-- cd_credit_rating: string (nullable = true)\n",
      " |    |    |-- cd_dep_count: integer (nullable = true)\n",
      " |    |    |-- cd_dep_employed_count: integer (nullable = true)\n",
      " |    |    |-- cd_dep_college_count: integer (nullable = true)\n",
      " |    |-- c_current_address: struct (nullable = true)\n",
      " |    |    |-- ca_address_id: string (nullable = true)\n",
      " |    |    |-- ca_street_number: string (nullable = true)\n",
      " |    |    |-- ca_street_name: string (nullable = true)\n",
      " |    |    |-- ca_street_type: string (nullable = true)\n",
      " |    |    |-- ca_suite_number: string (nullable = true)\n",
      " |    |    |-- ca_city: string (nullable = true)\n",
      " |    |    |-- ca_county: string (nullable = true)\n",
      " |    |    |-- ca_state: string (nullable = true)\n",
      " |    |    |-- ca_zip: string (nullable = true)\n",
      " |    |    |-- ca_country: string (nullable = true)\n",
      " |    |    |-- ca_gmt_offset: double (nullable = true)\n",
      " |    |    |-- ca_location_type: string (nullable = true)\n",
      " |    |-- c_first_shipto_date: struct (nullable = true)\n",
      " |    |    |-- d_date_id: string (nullable = true)\n",
      " |    |    |-- d_date: timestamp (nullable = true)\n",
      " |    |    |-- d_month_seq: integer (nullable = true)\n",
      " |    |    |-- d_week_seq: integer (nullable = true)\n",
      " |    |    |-- d_quarter_seq: integer (nullable = true)\n",
      " |    |    |-- d_year: integer (nullable = true)\n",
      " |    |    |-- d_dow: integer (nullable = true)\n",
      " |    |    |-- d_moy: integer (nullable = true)\n",
      " |    |    |-- d_dom: integer (nullable = true)\n",
      " |    |    |-- d_qoy: integer (nullable = true)\n",
      " |    |    |-- d_fy_year: integer (nullable = true)\n",
      " |    |    |-- d_fy_quarter_seq: integer (nullable = true)\n",
      " |    |    |-- d_fy_week_seq: integer (nullable = true)\n",
      " |    |    |-- d_day_name: string (nullable = true)\n",
      " |    |    |-- d_quarter_name: string (nullable = true)\n",
      " |    |    |-- d_holiday: string (nullable = true)\n",
      " |    |    |-- d_weekend: string (nullable = true)\n",
      " |    |    |-- d_following_holiday: string (nullable = true)\n",
      " |    |    |-- d_first_dom: integer (nullable = true)\n",
      " |    |    |-- d_last_dom: integer (nullable = true)\n",
      " |    |    |-- d_same_day_ly: integer (nullable = true)\n",
      " |    |    |-- d_same_day_lq: integer (nullable = true)\n",
      " |    |    |-- d_current_day: string (nullable = true)\n",
      " |    |    |-- d_current_week: string (nullable = true)\n",
      " |    |    |-- d_current_month: string (nullable = true)\n",
      " |    |    |-- d_current_quarter: string (nullable = true)\n",
      " |    |    |-- d_current_year: string (nullable = true)\n",
      " |    |-- c_first_sales_date: struct (nullable = true)\n",
      " |    |    |-- d_date_id: string (nullable = true)\n",
      " |    |    |-- d_date: timestamp (nullable = true)\n",
      " |    |    |-- d_month_seq: integer (nullable = true)\n",
      " |    |    |-- d_week_seq: integer (nullable = true)\n",
      " |    |    |-- d_quarter_seq: integer (nullable = true)\n",
      " |    |    |-- d_year: integer (nullable = true)\n",
      " |    |    |-- d_dow: integer (nullable = true)\n",
      " |    |    |-- d_moy: integer (nullable = true)\n",
      " |    |    |-- d_dom: integer (nullable = true)\n",
      " |    |    |-- d_qoy: integer (nullable = true)\n",
      " |    |    |-- d_fy_year: integer (nullable = true)\n",
      " |    |    |-- d_fy_quarter_seq: integer (nullable = true)\n",
      " |    |    |-- d_fy_week_seq: integer (nullable = true)\n",
      " |    |    |-- d_day_name: string (nullable = true)\n",
      " |    |    |-- d_quarter_name: string (nullable = true)\n",
      " |    |    |-- d_holiday: string (nullable = true)\n",
      " |    |    |-- d_weekend: string (nullable = true)\n",
      " |    |    |-- d_following_holiday: string (nullable = true)\n",
      " |    |    |-- d_first_dom: integer (nullable = true)\n",
      " |    |    |-- d_last_dom: integer (nullable = true)\n",
      " |    |    |-- d_same_day_ly: integer (nullable = true)\n",
      " |    |    |-- d_same_day_lq: integer (nullable = true)\n",
      " |    |    |-- d_current_day: string (nullable = true)\n",
      " |    |    |-- d_current_week: string (nullable = true)\n",
      " |    |    |-- d_current_month: string (nullable = true)\n",
      " |    |    |-- d_current_quarter: string (nullable = true)\n",
      " |    |    |-- d_current_year: string (nullable = true)\n",
      " |    |-- c_last_review_date: struct (nullable = true)\n",
      " |    |    |-- d_date_id: string (nullable = true)\n",
      " |    |    |-- d_date: timestamp (nullable = true)\n",
      " |    |    |-- d_month_seq: integer (nullable = true)\n",
      " |    |    |-- d_week_seq: integer (nullable = true)\n",
      " |    |    |-- d_quarter_seq: integer (nullable = true)\n",
      " |    |    |-- d_year: integer (nullable = true)\n",
      " |    |    |-- d_dow: integer (nullable = true)\n",
      " |    |    |-- d_moy: integer (nullable = true)\n",
      " |    |    |-- d_dom: integer (nullable = true)\n",
      " |    |    |-- d_qoy: integer (nullable = true)\n",
      " |    |    |-- d_fy_year: integer (nullable = true)\n",
      " |    |    |-- d_fy_quarter_seq: integer (nullable = true)\n",
      " |    |    |-- d_fy_week_seq: integer (nullable = true)\n",
      " |    |    |-- d_day_name: string (nullable = true)\n",
      " |    |    |-- d_quarter_name: string (nullable = true)\n",
      " |    |    |-- d_holiday: string (nullable = true)\n",
      " |    |    |-- d_weekend: string (nullable = true)\n",
      " |    |    |-- d_following_holiday: string (nullable = true)\n",
      " |    |    |-- d_first_dom: integer (nullable = true)\n",
      " |    |    |-- d_last_dom: integer (nullable = true)\n",
      " |    |    |-- d_same_day_ly: integer (nullable = true)\n",
      " |    |    |-- d_same_day_lq: integer (nullable = true)\n",
      " |    |    |-- d_current_day: string (nullable = true)\n",
      " |    |    |-- d_current_week: string (nullable = true)\n",
      " |    |    |-- d_current_month: string (nullable = true)\n",
      " |    |    |-- d_current_quarter: string (nullable = true)\n",
      " |    |    |-- d_current_year: string (nullable = true)\n",
      " |    |-- c_current_household_demographics: struct (nullable = true)\n",
      " |    |    |-- hd_income_band_sk: integer (nullable = true)\n",
      " |    |    |-- hd_buy_potential: string (nullable = true)\n",
      " |    |    |-- hd_dep_count: integer (nullable = true)\n",
      " |    |    |-- hd_vehicle_count: integer (nullable = true)\n",
      " |    |    |-- hd_income_band: struct (nullable = true)\n",
      " |    |    |    |-- ib_lower_bound: integer (nullable = true)\n",
      " |    |    |    |-- ib_upper_bound: integer (nullable = true)\n",
      " |    |    |-- hd_income_band_sk_row_num: integer (nullable = true)\n",
      " |-- ss_sold_date_sk: integer (nullable = true)"
     ]
    }
   ],
   "source": [
    "df_filtered.printSchema()"
   ]
  },
  {
   "cell_type": "code",
   "execution_count": 5,
   "metadata": {},
   "outputs": [
    {
     "data": {
      "application/vnd.jupyter.widget-view+json": {
       "model_id": "17213552bb5e42b0a3742e3ad3469d28",
       "version_major": 2,
       "version_minor": 0
      },
      "text/plain": [
       "VBox()"
      ]
     },
     "metadata": {},
     "output_type": "display_data"
    },
    {
     "data": {
      "application/vnd.jupyter.widget-view+json": {
       "model_id": "",
       "version_major": 2,
       "version_minor": 0
      },
      "text/plain": [
       "FloatProgress(value=0.0, bar_style='info', description='Progress:', layout=Layout(height='25px', width='50%'),…"
      ]
     },
     "metadata": {},
     "output_type": "display_data"
    }
   ],
   "source": [
    "from pyspark.sql.functions import concat_ws\n",
    "from pyspark.sql.types import StringType"
   ]
  },
  {
   "cell_type": "code",
   "execution_count": 6,
   "metadata": {},
   "outputs": [
    {
     "data": {
      "application/vnd.jupyter.widget-view+json": {
       "model_id": "459ed6c661254193a2aba422711308db",
       "version_major": 2,
       "version_minor": 0
      },
      "text/plain": [
       "VBox()"
      ]
     },
     "metadata": {},
     "output_type": "display_data"
    },
    {
     "data": {
      "application/vnd.jupyter.widget-view+json": {
       "model_id": "",
       "version_major": 2,
       "version_minor": 0
      },
      "text/plain": [
       "FloatProgress(value=0.0, bar_style='info', description='Progress:', layout=Layout(height='25px', width='50%'),…"
      ]
     },
     "metadata": {},
     "output_type": "display_data"
    }
   ],
   "source": [
    "df_to_ddb = df_filtered.withColumn('ss_sold_date_sk_ss_ticket_number', concat_ws('-', df_filtered.ss_sold_date_sk.cast(StringType()), df_filtered.ss_ticket_number.cast(StringType())))"
   ]
  },
  {
   "cell_type": "code",
   "execution_count": 7,
   "metadata": {},
   "outputs": [
    {
     "data": {
      "application/vnd.jupyter.widget-view+json": {
       "model_id": "784d7ac0edcb44abaeb2a1bdcac51eae",
       "version_major": 2,
       "version_minor": 0
      },
      "text/plain": [
       "VBox()"
      ]
     },
     "metadata": {},
     "output_type": "display_data"
    },
    {
     "data": {
      "application/vnd.jupyter.widget-view+json": {
       "model_id": "",
       "version_major": 2,
       "version_minor": 0
      },
      "text/plain": [
       "FloatProgress(value=0.0, bar_style='info', description='Progress:', layout=Layout(height='25px', width='50%'),…"
      ]
     },
     "metadata": {},
     "output_type": "display_data"
    },
    {
     "name": "stdout",
     "output_type": "stream",
     "text": [
      "Row(ss_customer_sk=None, ss_addr_sk=4186, ss_item_sk=280940, ss_hdemo_sk=2561, ss_promo_sk=463, ss_store_sk=None, ss_sold_time_sk=None, ss_cdemo_sk=None, ss_ticket_number=1974871453, ss_quantity=36, ss_wholesale_cost=None, ss_list_price=None, ss_sales_price=33.94, ss_ext_discount_amt=0.0, ss_ext_sales_price=1221.84, ss_ext_wholesale_cost=1322.64, ss_ext_list_price=None, ss_ext_tax=None, ss_coupon_amt=0.0, ss_net_paid=None, ss_net_paid_inc_tax=1295.15, ss_net_profit=-100.8, ss_customer_demographics=None, ss_date_dim=Row(d_date_id=u'AAAAAAAAAIFGFCAA', d_date=datetime.datetime(1998, 1, 2, 0, 0), d_month_seq=1176, d_week_seq=5114, d_quarter_seq=393, d_year=1998, d_dow=5, d_moy=1, d_dom=2, d_qoy=1, d_fy_year=1998, d_fy_quarter_seq=393, d_fy_week_seq=5114, d_day_name=u'Friday', d_quarter_name=u'1998Q1', d_holiday=u'N', d_weekend=u'Y', d_following_holiday=u'Y', d_first_dom=2450815, d_last_dom=2450814, d_same_day_ly=2450451, d_same_day_lq=2450724, d_current_day=u'N', d_current_week=u'N', d_current_month=u'N', d_current_quarter=u'N', d_current_year=u'N'), ss_time_dim=None, ss_store=None, ss_promotion=Row(p_end_date_sk=2450652, p_start_date_sk=2450648, p_item_sk=330074, p_promo_id=u'AAAAAAAAPMBAAAAA', p_cost=1000.0, p_response_target=1, p_promo_name=u'pri', p_channel_dmail=u'N', p_channel_email=u'N', p_channel_catalog=u'N', p_channel_tv=u'N', p_channel_radio=u'N', p_channel_press=u'N', p_channel_event=u'N', p_channel_demo=u'N', p_channel_details=u'Yesterday main shares rest openin', p_purpose=u'Unknown', p_discount_active=u'N', p_item=Row(i_item_id=u'AAAAAAAAKFJAFAAA', i_rec_start_date=datetime.datetime(1997, 10, 27, 0, 0), i_rec_end_date=datetime.datetime(2000, 10, 26, 0, 0), i_item_desc=u'Possible, other orders could escape important trousers; situations know sometimes standard, total mechanisms. Elements must attempt slightly fast cold fans. Also ext', i_current_price=1.96, i_wholesale_cost=0.86, i_brand_id=8006005, i_brand=u'corpnameless #5', i_class_id=6, i_class=u'football', i_category_id=8, i_manufact_id=405, i_manufact=u'antibarese', i_size=u'N/A', i_formulation=u'12867khaki8401715958', i_color=u'rosy', i_units=u'Pound', i_container=u'Unknown', i_manager_id=56, i_product_name=u'eseationbarbarpripri', i_category=u'Sports'), p_start_date=Row(d_date_id=u'AAAAAAAAINEGFCAA', d_date=datetime.datetime(1997, 7, 18, 0, 0), d_month_seq=1170, d_week_seq=5090, d_quarter_seq=391, d_year=1997, d_dow=5, d_moy=7, d_dom=18, d_qoy=3, d_fy_year=1997, d_fy_quarter_seq=391, d_fy_week_seq=5090, d_day_name=u'Friday', d_quarter_name=u'1997Q3', d_holiday=u'N', d_weekend=u'Y', d_following_holiday=u'N', d_first_dom=2450631, d_last_dom=2450811, d_same_day_ly=2450283, d_same_day_lq=2450557, d_current_day=u'N', d_current_week=u'N', d_current_month=u'N', d_current_quarter=u'N', d_current_year=u'N'), p_end_date=Row(d_date_id=u'AAAAAAAAMNEGFCAA', d_date=datetime.datetime(1997, 7, 22, 0, 0), d_month_seq=1170, d_week_seq=5091, d_quarter_seq=391, d_year=1997, d_dow=2, d_moy=7, d_dom=22, d_qoy=3, d_fy_year=1997, d_fy_quarter_seq=391, d_fy_week_seq=5091, d_day_name=u'Tuesday', d_quarter_name=u'1997Q3', d_holiday=u'N', d_weekend=u'N', d_following_holiday=u'N', d_first_dom=2450631, d_last_dom=2450811, d_same_day_ly=2450287, d_same_day_lq=2450561, d_current_day=u'N', d_current_week=u'N', d_current_month=u'N', d_current_quarter=u'N', d_current_year=u'N')), ss_household_demographics=Row(hd_income_band_sk=2, hd_buy_potential=u'1001-5000', hd_dep_count=1, hd_vehicle_count=2, hd_income_band=Row(ib_lower_bound=10001, ib_upper_bound=20000)), ss_item=Row(i_item_id=u'AAAAAAAAMGJEEAAA', i_rec_start_date=datetime.datetime(1997, 10, 27, 0, 0), i_rec_end_date=datetime.datetime(2000, 10, 26, 0, 0), i_item_desc=u'Surprised animals move in a children', i_current_price=1.5, i_wholesale_cost=1.32, i_brand_id=4004001, i_brand=u'edu packedu pack #1', i_class_id=4, i_class=u'athletic', i_category_id=4, i_manufact_id=280, i_manufact=u'bareingable', i_size=u'medium', i_formulation=u'57864433183lime67854', i_color=u'thistle', i_units=u'Pound', i_container=u'Unknown', i_manager_id=12, i_product_name=u'baresen stbareingable', i_category=u'Shoes'), ss_customer_address=Row(ca_address_id=u'AAAAAAAAKFABAAAA', ca_street_number=u'623', ca_street_name=u'Third Center', ca_street_type=u'Lane', ca_suite_number=u'Suite T', ca_city=u'Montpelier', ca_county=u'Genesee County', ca_state=u'MI', ca_zip=u'48930', ca_country=u'United States', ca_gmt_offset=-5.0, ca_location_type=u'apartment'), ss_customer=None, ss_sold_date_sk=2450816, ss_sold_date_sk_ss_ticket_number=u'2450816-1974871453')\n",
      "Row(ss_customer_sk=49451515, ss_addr_sk=32188758, ss_item_sk=334111, ss_hdemo_sk=5677, ss_promo_sk=1350, ss_store_sk=860, ss_sold_time_sk=39269, ss_cdemo_sk=1837796, ss_ticket_number=247190210, ss_quantity=94, ss_wholesale_cost=12.94, ss_list_price=20.18, ss_sales_price=4.43, ss_ext_discount_amt=0.0, ss_ext_sales_price=416.42, ss_ext_wholesale_cost=1216.36, ss_ext_list_price=1896.92, ss_ext_tax=12.49, ss_coupon_amt=0.0, ss_net_paid=416.42, ss_net_paid_inc_tax=428.91, ss_net_profit=-799.94, ss_customer_demographics=Row(cd_gender=u'F', cd_marital_status=u'D', cd_education_status=u'Secondary', cd_purchase_estimate=7500, cd_credit_rating=u'Good', cd_dep_count=6, cd_dep_employed_count=4, cd_dep_college_count=6), ss_date_dim=Row(d_date_id=u'AAAAAAAAAIFGFCAA', d_date=datetime.datetime(1998, 1, 2, 0, 0), d_month_seq=1176, d_week_seq=5114, d_quarter_seq=393, d_year=1998, d_dow=5, d_moy=1, d_dom=2, d_qoy=1, d_fy_year=1998, d_fy_quarter_seq=393, d_fy_week_seq=5114, d_day_name=u'Friday', d_quarter_name=u'1998Q1', d_holiday=u'N', d_weekend=u'Y', d_following_holiday=u'Y', d_first_dom=2450815, d_last_dom=2450814, d_same_day_ly=2450451, d_same_day_lq=2450724, d_current_day=u'N', d_current_week=u'N', d_current_month=u'N', d_current_quarter=u'N', d_current_year=u'N'), ss_time_dim=Row(t_time_id=u'AAAAAAAAGGJJAAAA', t_time=39269, t_hour=10, t_minute=54, t_second=29, t_am_pm=u'AM', t_shift=u'first', t_sub_shift=u'morning', t_meal_time=None), ss_store=Row(s_closed_date_sk=None, s_store_id=u'AAAAAAAAMFDAAAAA', s_rec_start_date=datetime.datetime(1997, 3, 13, 0, 0), s_rec_end_date=datetime.datetime(2000, 3, 12, 0, 0), s_store_name=u'bar', s_number_employees=300, s_floor_space=9041824, s_hours=u'8AM-4PM', s_manager=u'Paul Carlson', s_market_id=9, s_geography_class=u'Unknown', s_market_desc=u'For example other patients need main theories. Exact benefits ', s_market_manager=u'Steve Walker', s_division_id=1, s_division_name=u'Unknown', s_company_id=1, s_company_name=u'Unknown', s_street_number=u'955', s_street_name=u'2nd Lakeview', s_street_type=u'Road', s_suite_number=u'Suite P', s_city=u'Warren', s_county=u'Terry County', s_state=u'TX', s_zip=u'70383', s_country=u'United States', s_gmt_offset=-6.0, s_tax_precentage=0.1, s_closed_date=None), ss_promotion=Row(p_end_date_sk=2450581, p_start_date_sk=2450535, p_item_sk=377383, p_promo_id=u'AAAAAAAAGEFAAAAA', p_cost=1000.0, p_response_target=1, p_promo_name=u'bar', p_channel_dmail=u'Y', p_channel_email=u'N', p_channel_catalog=u'N', p_channel_tv=u'N', p_channel_radio=u'N', p_channel_press=u'N', p_channel_event=u'N', p_channel_demo=u'N', p_channel_details=u'Necessary, environmental combin', p_purpose=u'Unknown', p_discount_active=u'N', p_item=Row(i_item_id=u'AAAAAAAAHCCMFAAA', i_rec_start_date=datetime.datetime(1997, 10, 27, 0, 0), i_rec_end_date=None, i_item_desc=u'International, major risks read then like a aims. Able patients say official years. More particular countries wear powerful, safe brothers. Following, ver', i_current_price=0.39, i_wholesale_cost=0.12, i_brand_id=10015001, i_brand=u'scholaramalgamalg #1', i_class_id=15, i_class=u'portable', i_category_id=10, i_manufact_id=468, i_manufact=u'eingcallyese', i_size=u'N/A', i_formulation=u'71351812seashell8971', i_color=u'chartreuse', i_units=u'Pallet', i_container=u'Unknown', i_manager_id=10, i_product_name=u'prieingpriationationpri', i_category=u'Electronics'), p_start_date=Row(d_date_id=u'AAAAAAAAHGEGFCAA', d_date=datetime.datetime(1997, 3, 27, 0, 0), d_month_seq=1166, d_week_seq=5074, d_quarter_seq=390, d_year=1997, d_dow=4, d_moy=3, d_dom=27, d_qoy=1, d_fy_year=1997, d_fy_quarter_seq=390, d_fy_week_seq=5074, d_day_name=u'Thursday', d_quarter_name=u'1997Q1', d_holiday=u'N', d_weekend=u'N', d_following_holiday=u'N', d_first_dom=2450509, d_last_dom=2450567, d_same_day_ly=2450170, d_same_day_lq=2450443, d_current_day=u'N', d_current_week=u'N', d_current_month=u'N', d_current_quarter=u'N', d_current_year=u'N'), p_end_date=Row(d_date_id=u'AAAAAAAAFJEGFCAA', d_date=datetime.datetime(1997, 5, 12, 0, 0), d_month_seq=1168, d_week_seq=5080, d_quarter_seq=390, d_year=1997, d_dow=1, d_moy=5, d_dom=12, d_qoy=2, d_fy_year=1997, d_fy_quarter_seq=390, d_fy_week_seq=5080, d_day_name=u'Monday', d_quarter_name=u'1997Q2', d_holiday=u'N', d_weekend=u'N', d_following_holiday=u'N', d_first_dom=2450570, d_last_dom=2450689, d_same_day_ly=2450216, d_same_day_lq=2450491, d_current_day=u'N', d_current_week=u'N', d_current_month=u'N', d_current_quarter=u'N', d_current_year=u'N')), ss_household_demographics=Row(hd_income_band_sk=18, hd_buy_potential=u'501-1000', hd_dep_count=7, hd_vehicle_count=4, hd_income_band=Row(ib_lower_bound=170001, ib_upper_bound=180000)), ss_item=Row(i_item_id=u'AAAAAAAAPBJBFAAA', i_rec_start_date=datetime.datetime(1997, 10, 27, 0, 0), i_rec_end_date=None, i_item_desc=u'Well-known, hot proposals will not take never about a members. Barely irish cigarettes start together northwards important share', i_current_price=7.29, i_wholesale_cost=4.59, i_brand_id=1003002, i_brand=u'exportiamalg #2', i_class_id=3, i_class=u'maternity', i_category_id=1, i_manufact_id=540, i_manufact=u'bareseanti', i_size=u'large', i_formulation=u'76888white5454790246', i_color=u'wheat', i_units=u'Pound', i_container=u'Unknown', i_manager_id=1, i_product_name=u'oughtoughtoughtesepripri', i_category=u'Women'), ss_customer_address=Row(ca_address_id=u'AAAAAAAAGFJCLOBA', ca_street_number=u'839', ca_street_name=u'Lake ', ca_street_type=u'Ln', ca_suite_number=u'Suite Y', ca_city=u'Concord', ca_county=u'Lycoming County', ca_state=u'PA', ca_zip=u'14107', ca_country=u'United States', ca_gmt_offset=-5.0, ca_location_type=u'apartment'), ss_customer=Row(c_current_hdemo_sk=7048, c_last_review_date_sk=2452288, c_first_sales_date_sk=2451356, c_first_shipto_date_sk=2451386, c_current_addr_sk=31181798, c_current_cdemo_sk=1895145, c_customer_id=u'AAAAAAAALPBJCPCA', c_salutation=u'Sir', c_first_name=u'Matthew', c_last_name=u'Hunt', c_preferred_cust_flag=u'Y', c_birth_day=8, c_birth_month=11, c_birth_year=1967, c_birth_country=u'NETHERLANDS', c_login=None, c_email_address=u'Matthew.Hunt@jUe.com', c_current_customer_demographics=Row(cd_gender=u'M', cd_marital_status=u'D', cd_education_status=u'2 yr Degree', cd_purchase_estimate=7000, cd_credit_rating=u'Low Risk', cd_dep_count=2, cd_dep_employed_count=6, cd_dep_college_count=6), c_current_address=Row(ca_address_id=u'AAAAAAAAGOLMLNBA', ca_street_number=u'474', ca_street_name=u'Third ', ca_street_type=u'Court', ca_suite_number=u'Suite 40', ca_city=u'Lakewood', ca_county=u'Montgomery County', ca_state=u'MS', ca_zip=u'58877', ca_country=u'United States', ca_gmt_offset=-6.0, ca_location_type=u'condo'), c_first_shipto_date=Row(d_date_id=u'AAAAAAAAKLHGFCAA', d_date=datetime.datetime(1999, 7, 26, 0, 0), d_month_seq=1194, d_week_seq=5195, d_quarter_seq=399, d_year=1999, d_dow=1, d_moy=7, d_dom=26, d_qoy=3, d_fy_year=1999, d_fy_quarter_seq=399, d_fy_week_seq=5195, d_day_name=u'Monday', d_quarter_name=u'1999Q3', d_holiday=u'N', d_weekend=u'N', d_following_holiday=u'N', d_first_dom=2451361, d_last_dom=2451541, d_same_day_ly=2451021, d_same_day_lq=2451295, d_current_day=u'N', d_current_week=u'N', d_current_month=u'N', d_current_quarter=u'N', d_current_year=u'N'), c_first_sales_date=Row(d_date_id=u'AAAAAAAAMJHGFCAA', d_date=datetime.datetime(1999, 6, 26, 0, 0), d_month_seq=1193, d_week_seq=5191, d_quarter_seq=399, d_year=1999, d_dow=6, d_moy=6, d_dom=26, d_qoy=2, d_fy_year=1999, d_fy_quarter_seq=399, d_fy_week_seq=5191, d_day_name=u'Saturday', d_quarter_name=u'1999Q2', d_holiday=u'N', d_weekend=u'Y', d_following_holiday=u'N', d_first_dom=2451331, d_last_dom=2451481, d_same_day_ly=2450991, d_same_day_lq=2451266, d_current_day=u'N', d_current_week=u'N', d_current_month=u'N', d_current_quarter=u'N', d_current_year=u'N'), c_last_review_date=Row(d_date_id=u'AAAAAAAAAELGFCAA', d_date=datetime.datetime(2002, 1, 13, 0, 0), d_month_seq=1224, d_week_seq=5324, d_quarter_seq=409, d_year=2002, d_dow=0, d_moy=1, d_dom=13, d_qoy=1, d_fy_year=2002, d_fy_quarter_seq=409, d_fy_week_seq=5324, d_day_name=u'Sunday', d_quarter_name=u'2002Q1', d_holiday=u'N', d_weekend=u'N', d_following_holiday=u'N', d_first_dom=2452276, d_last_dom=2452275, d_same_day_ly=2451923, d_same_day_lq=2452196, d_current_day=u'N', d_current_week=u'N', d_current_month=u'N', d_current_quarter=u'N', d_current_year=u'N'), c_current_household_demographics=Row(hd_income_band_sk=9, hd_buy_potential=u'>10000', hd_dep_count=8, hd_vehicle_count=-1, hd_income_band=Row(ib_lower_bound=80001, ib_upper_bound=90000), hd_income_band_sk_row_num=1)), ss_sold_date_sk=2450816, ss_sold_date_sk_ss_ticket_number=u'2450816-247190210')\n",
      "Row(ss_customer_sk=None, ss_addr_sk=28584, ss_item_sk=9412, ss_hdemo_sk=6735, ss_promo_sk=1029, ss_store_sk=1582, ss_sold_time_sk=39704, ss_cdemo_sk=1720886, ss_ticket_number=2009191001, ss_quantity=None, ss_wholesale_cost=None, ss_list_price=8.8, ss_sales_price=5.72, ss_ext_discount_amt=None, ss_ext_sales_price=274.56, ss_ext_wholesale_cost=None, ss_ext_list_price=422.4, ss_ext_tax=None, ss_coupon_amt=None, ss_net_paid=None, ss_net_paid_inc_tax=296.52, ss_net_profit=31.68, ss_customer_demographics=Row(cd_gender=u'F', cd_marital_status=u'D', cd_education_status=u'Primary', cd_purchase_estimate=2500, cd_credit_rating=u'Low Risk', cd_dep_count=6, cd_dep_employed_count=1, cd_dep_college_count=6), ss_date_dim=Row(d_date_id=u'AAAAAAAAAIFGFCAA', d_date=datetime.datetime(1998, 1, 2, 0, 0), d_month_seq=1176, d_week_seq=5114, d_quarter_seq=393, d_year=1998, d_dow=5, d_moy=1, d_dom=2, d_qoy=1, d_fy_year=1998, d_fy_quarter_seq=393, d_fy_week_seq=5114, d_day_name=u'Friday', d_quarter_name=u'1998Q1', d_holiday=u'N', d_weekend=u'Y', d_following_holiday=u'Y', d_first_dom=2450815, d_last_dom=2450814, d_same_day_ly=2450451, d_same_day_lq=2450724, d_current_day=u'N', d_current_week=u'N', d_current_month=u'N', d_current_quarter=u'N', d_current_year=u'N'), ss_time_dim=Row(t_time_id=u'AAAAAAAAJBLJAAAA', t_time=39704, t_hour=11, t_minute=1, t_second=44, t_am_pm=u'AM', t_shift=u'first', t_sub_shift=u'morning', t_meal_time=None), ss_store=Row(s_closed_date_sk=None, s_store_id=u'AAAAAAAAOCGAAAAA', s_rec_start_date=datetime.datetime(1997, 3, 13, 0, 0), s_rec_end_date=datetime.datetime(1999, 3, 13, 0, 0), s_store_name=u'able', s_number_employees=285, s_floor_space=8838755, s_hours=u'8AM-12AM', s_manager=u'David Thompson', s_market_id=1, s_geography_class=u'Unknown', s_market_desc=u'At large relevant systems must', s_market_manager=u'Robert Parsons', s_division_id=1, s_division_name=u'Unknown', s_company_id=1, s_company_name=u'Unknown', s_street_number=u'893', s_street_name=u'3rd ', s_street_type=u'Street', s_suite_number=u'Suite 270', s_city=u'Ebenezer', s_county=u'Allen County', s_state=u'KY', s_zip=u'43971', s_country=u'United States', s_gmt_offset=-6.0, s_tax_precentage=0.05, s_closed_date=None), ss_promotion=Row(p_end_date_sk=2450719, p_start_date_sk=2450670, p_item_sk=70936, p_promo_id=u'AAAAAAAAFAEAAAAA', p_cost=1000.0, p_response_target=1, p_promo_name=u'n st', p_channel_dmail=u'N', p_channel_email=u'N', p_channel_catalog=u'N', p_channel_tv=u'N', p_channel_radio=u'N', p_channel_press=u'N', p_channel_event=u'N', p_channel_demo=u'N', p_channel_details=u'Results shall understand able tr', p_purpose=u'Unknown', p_discount_active=u'N', p_item=Row(i_item_id=u'AAAAAAAAIBFBBAAA', i_rec_start_date=datetime.datetime(1997, 10, 27, 0, 0), i_rec_end_date=datetime.datetime(1999, 10, 27, 0, 0), i_item_desc=u'Also educ', i_current_price=1.17, i_wholesale_cost=0.99, i_brand_id=8006007, i_brand=u'corpnameless #7', i_class_id=6, i_class=u'football', i_category_id=8, i_manufact_id=163, i_manufact=u'pricallyought', i_size=u'N/A', i_formulation=u'81725671099835snow48', i_color=u'ghost', i_units=u'Gram', i_container=u'Unknown', i_manager_id=15, i_product_name=u'callyprin stbaration', i_category=u'Sports'), p_start_date=Row(d_date_id=u'AAAAAAAAOOEGFCAA', d_date=datetime.datetime(1997, 8, 9, 0, 0), d_month_seq=1171, d_week_seq=5093, d_quarter_seq=391, d_year=1997, d_dow=6, d_moy=8, d_dom=9, d_qoy=3, d_fy_year=1997, d_fy_quarter_seq=391, d_fy_week_seq=5093, d_day_name=u'Saturday', d_quarter_name=u'1997Q3', d_holiday=u'N', d_weekend=u'Y', d_following_holiday=u'N', d_first_dom=2450662, d_last_dom=2450873, d_same_day_ly=2450305, d_same_day_lq=2450579, d_current_day=u'N', d_current_week=u'N', d_current_month=u'N', d_current_quarter=u'N', d_current_year=u'N'), p_end_date=Row(d_date_id=u'AAAAAAAAPBFGFCAA', d_date=datetime.datetime(1997, 9, 27, 0, 0), d_month_seq=1172, d_week_seq=5100, d_quarter_seq=392, d_year=1997, d_dow=6, d_moy=9, d_dom=27, d_qoy=3, d_fy_year=1997, d_fy_quarter_seq=392, d_fy_week_seq=5100, d_day_name=u'Saturday', d_quarter_name=u'1997Q3', d_holiday=u'N', d_weekend=u'Y', d_following_holiday=u'N', d_first_dom=2450693, d_last_dom=2450935, d_same_day_ly=2450354, d_same_day_lq=2450628, d_current_day=u'N', d_current_week=u'N', d_current_month=u'N', d_current_quarter=u'N', d_current_year=u'N')), ss_household_demographics=Row(hd_income_band_sk=16, hd_buy_potential=u'0-500', hd_dep_count=6, hd_vehicle_count=-1, hd_income_band=Row(ib_lower_bound=150001, ib_upper_bound=160000)), ss_item=Row(i_item_id=u'AAAAAAAAEMECAAAA', i_rec_start_date=datetime.datetime(1997, 10, 27, 0, 0), i_rec_end_date=datetime.datetime(1999, 10, 27, 0, 0), i_item_desc=u'Similar, other causes used to want distinctive, green members. Dangers can participate expectations. Particular limits project organi', i_current_price=7.03, i_wholesale_cost=6.11, i_brand_id=6015005, i_brand=u'scholarbrand #5', i_class_id=15, i_class=u'custom', i_category_id=6, i_manufact_id=329, i_manufact=u'n stablepri', i_size=u'N/A', i_formulation=u'4843turquoise8573622', i_color=u'smoke', i_units=u'N/A', i_container=u'Unknown', i_manager_id=83, i_product_name=u'ableoughtesen st', i_category=u'Jewelry'), ss_customer_address=Row(ca_address_id=u'AAAAAAAAIKPGAAAA', ca_street_number=u'965', ca_street_name=u'10th ', ca_street_type=u'Wy', ca_suite_number=u'Suite W', ca_city=u'Clinton', ca_county=u'Banner County', ca_state=u'NE', ca_zip=u'68222', ca_country=u'United States', ca_gmt_offset=-6.0, ca_location_type=u'apartment'), ss_customer=None, ss_sold_date_sk=2450816, ss_sold_date_sk_ss_ticket_number=u'2450816-2009191001')\n",
      "Row(ss_customer_sk=49451515, ss_addr_sk=32188758, ss_item_sk=313996, ss_hdemo_sk=5677, ss_promo_sk=634, ss_store_sk=860, ss_sold_time_sk=39269, ss_cdemo_sk=1837796, ss_ticket_number=247190210, ss_quantity=94, ss_wholesale_cost=16.09, ss_list_price=23.65, ss_sales_price=8.98, ss_ext_discount_amt=0.0, ss_ext_sales_price=844.12, ss_ext_wholesale_cost=1512.46, ss_ext_list_price=2223.1, ss_ext_tax=42.2, ss_coupon_amt=0.0, ss_net_paid=844.12, ss_net_paid_inc_tax=886.32, ss_net_profit=-668.34, ss_customer_demographics=Row(cd_gender=u'F', cd_marital_status=u'D', cd_education_status=u'Secondary', cd_purchase_estimate=7500, cd_credit_rating=u'Good', cd_dep_count=6, cd_dep_employed_count=4, cd_dep_college_count=6), ss_date_dim=Row(d_date_id=u'AAAAAAAAAIFGFCAA', d_date=datetime.datetime(1998, 1, 2, 0, 0), d_month_seq=1176, d_week_seq=5114, d_quarter_seq=393, d_year=1998, d_dow=5, d_moy=1, d_dom=2, d_qoy=1, d_fy_year=1998, d_fy_quarter_seq=393, d_fy_week_seq=5114, d_day_name=u'Friday', d_quarter_name=u'1998Q1', d_holiday=u'N', d_weekend=u'Y', d_following_holiday=u'Y', d_first_dom=2450815, d_last_dom=2450814, d_same_day_ly=2450451, d_same_day_lq=2450724, d_current_day=u'N', d_current_week=u'N', d_current_month=u'N', d_current_quarter=u'N', d_current_year=u'N'), ss_time_dim=Row(t_time_id=u'AAAAAAAAGGJJAAAA', t_time=39269, t_hour=10, t_minute=54, t_second=29, t_am_pm=u'AM', t_shift=u'first', t_sub_shift=u'morning', t_meal_time=None), ss_store=Row(s_closed_date_sk=None, s_store_id=u'AAAAAAAAMFDAAAAA', s_rec_start_date=datetime.datetime(1997, 3, 13, 0, 0), s_rec_end_date=datetime.datetime(2000, 3, 12, 0, 0), s_store_name=u'bar', s_number_employees=300, s_floor_space=9041824, s_hours=u'8AM-4PM', s_manager=u'Paul Carlson', s_market_id=9, s_geography_class=u'Unknown', s_market_desc=u'For example other patients need main theories. Exact benefits ', s_market_manager=u'Steve Walker', s_division_id=1, s_division_name=u'Unknown', s_company_id=1, s_company_name=u'Unknown', s_street_number=u'955', s_street_name=u'2nd Lakeview', s_street_type=u'Road', s_suite_number=u'Suite P', s_city=u'Warren', s_county=u'Terry County', s_state=u'TX', s_zip=u'70383', s_country=u'United States', s_gmt_offset=-6.0, s_tax_precentage=0.1, s_closed_date=None), ss_promotion=Row(p_end_date_sk=2450175, p_start_date_sk=2450154, p_item_sk=380758, p_promo_id=u'AAAAAAAAKHCAAAAA', p_cost=1000.0, p_response_target=1, p_promo_name=u'ese', p_channel_dmail=u'Y', p_channel_email=u'N', p_channel_catalog=u'N', p_channel_tv=u'N', p_channel_radio=u'N', p_channel_press=u'N', p_channel_event=u'N', p_channel_demo=u'N', p_channel_details=u'Old, new places go as', p_purpose=u'Unknown', p_discount_active=u'N', p_item=Row(i_item_id=u'AAAAAAAAGFPMFAAA', i_rec_start_date=None, i_rec_end_date=datetime.datetime(1999, 10, 27, 0, 0), i_item_desc=u'However white workers used to exert ', i_current_price=None, i_wholesale_cost=2.5, i_brand_id=2003001, i_brand=None, i_class_id=None, i_class=u'pants', i_category_id=2, i_manufact_id=941, i_manufact=None, i_size=u'medium', i_formulation=u'51484419435papaya870', i_color=u'turquoise', i_units=None, i_container=u'Unknown', i_manager_id=3, i_product_name=u'eingantiationbareingpri', i_category=None), p_start_date=Row(d_date_id=u'AAAAAAAAKOCGFCAA', d_date=datetime.datetime(1996, 3, 11, 0, 0), d_month_seq=1154, d_week_seq=5019, d_quarter_seq=386, d_year=1996, d_dow=1, d_moy=3, d_dom=11, d_qoy=1, d_fy_year=1996, d_fy_quarter_seq=386, d_fy_week_seq=5019, d_day_name=u'Monday', d_quarter_name=u'1996Q1', d_holiday=u'N', d_weekend=u'N', d_following_holiday=u'N', d_first_dom=2450144, d_last_dom=2450203, d_same_day_ly=2449788, d_same_day_lq=2450062, d_current_day=u'N', d_current_week=u'N', d_current_month=u'N', d_current_quarter=u'N', d_current_year=u'N'), p_end_date=Row(d_date_id=u'AAAAAAAAPPCGFCAA', d_date=datetime.datetime(1996, 4, 1, 0, 0), d_month_seq=1155, d_week_seq=5022, d_quarter_seq=386, d_year=1996, d_dow=1, d_moy=4, d_dom=1, d_qoy=2, d_fy_year=1996, d_fy_quarter_seq=386, d_fy_week_seq=5022, d_day_name=u'Monday', d_quarter_name=u'1996Q2', d_holiday=u'N', d_weekend=u'N', d_following_holiday=u'N', d_first_dom=2450175, d_last_dom=2450265, d_same_day_ly=2449809, d_same_day_lq=2450084, d_current_day=u'N', d_current_week=u'N', d_current_month=u'N', d_current_quarter=u'N', d_current_year=u'N')), ss_household_demographics=Row(hd_income_band_sk=18, hd_buy_potential=u'501-1000', hd_dep_count=7, hd_vehicle_count=4, hd_income_band=Row(ib_lower_bound=170001, ib_upper_bound=180000)), ss_item=Row(i_item_id=u'AAAAAAAAMIKMEAAA', i_rec_start_date=datetime.datetime(1997, 10, 27, 0, 0), i_rec_end_date=datetime.datetime(1999, 10, 27, 0, 0), i_item_desc=u'Patterns would look however. Years write more in a aspects. Forces u', i_current_price=5.88, i_wholesale_cost=2.94, i_brand_id=3002001, i_brand=u'importoexporti #1', i_class_id=2, i_class=u'infants', i_category_id=3, i_manufact_id=183, i_manufact=u'prieingought', i_size=u'large', i_formulation=u'536228697151255red98', i_color=u'indian', i_units=u'Pound', i_container=u'Unknown', i_manager_id=7, i_product_name=u'callyn stn stprioughtpri', i_category=u'Children'), ss_customer_address=Row(ca_address_id=u'AAAAAAAAGFJCLOBA', ca_street_number=u'839', ca_street_name=u'Lake ', ca_street_type=u'Ln', ca_suite_number=u'Suite Y', ca_city=u'Concord', ca_county=u'Lycoming County', ca_state=u'PA', ca_zip=u'14107', ca_country=u'United States', ca_gmt_offset=-5.0, ca_location_type=u'apartment'), ss_customer=Row(c_current_hdemo_sk=7048, c_last_review_date_sk=2452288, c_first_sales_date_sk=2451356, c_first_shipto_date_sk=2451386, c_current_addr_sk=31181798, c_current_cdemo_sk=1895145, c_customer_id=u'AAAAAAAALPBJCPCA', c_salutation=u'Sir', c_first_name=u'Matthew', c_last_name=u'Hunt', c_preferred_cust_flag=u'Y', c_birth_day=8, c_birth_month=11, c_birth_year=1967, c_birth_country=u'NETHERLANDS', c_login=None, c_email_address=u'Matthew.Hunt@jUe.com', c_current_customer_demographics=Row(cd_gender=u'M', cd_marital_status=u'D', cd_education_status=u'2 yr Degree', cd_purchase_estimate=7000, cd_credit_rating=u'Low Risk', cd_dep_count=2, cd_dep_employed_count=6, cd_dep_college_count=6), c_current_address=Row(ca_address_id=u'AAAAAAAAGOLMLNBA', ca_street_number=u'474', ca_street_name=u'Third ', ca_street_type=u'Court', ca_suite_number=u'Suite 40', ca_city=u'Lakewood', ca_county=u'Montgomery County', ca_state=u'MS', ca_zip=u'58877', ca_country=u'United States', ca_gmt_offset=-6.0, ca_location_type=u'condo'), c_first_shipto_date=Row(d_date_id=u'AAAAAAAAKLHGFCAA', d_date=datetime.datetime(1999, 7, 26, 0, 0), d_month_seq=1194, d_week_seq=5195, d_quarter_seq=399, d_year=1999, d_dow=1, d_moy=7, d_dom=26, d_qoy=3, d_fy_year=1999, d_fy_quarter_seq=399, d_fy_week_seq=5195, d_day_name=u'Monday', d_quarter_name=u'1999Q3', d_holiday=u'N', d_weekend=u'N', d_following_holiday=u'N', d_first_dom=2451361, d_last_dom=2451541, d_same_day_ly=2451021, d_same_day_lq=2451295, d_current_day=u'N', d_current_week=u'N', d_current_month=u'N', d_current_quarter=u'N', d_current_year=u'N'), c_first_sales_date=Row(d_date_id=u'AAAAAAAAMJHGFCAA', d_date=datetime.datetime(1999, 6, 26, 0, 0), d_month_seq=1193, d_week_seq=5191, d_quarter_seq=399, d_year=1999, d_dow=6, d_moy=6, d_dom=26, d_qoy=2, d_fy_year=1999, d_fy_quarter_seq=399, d_fy_week_seq=5191, d_day_name=u'Saturday', d_quarter_name=u'1999Q2', d_holiday=u'N', d_weekend=u'Y', d_following_holiday=u'N', d_first_dom=2451331, d_last_dom=2451481, d_same_day_ly=2450991, d_same_day_lq=2451266, d_current_day=u'N', d_current_week=u'N', d_current_month=u'N', d_current_quarter=u'N', d_current_year=u'N'), c_last_review_date=Row(d_date_id=u'AAAAAAAAAELGFCAA', d_date=datetime.datetime(2002, 1, 13, 0, 0), d_month_seq=1224, d_week_seq=5324, d_quarter_seq=409, d_year=2002, d_dow=0, d_moy=1, d_dom=13, d_qoy=1, d_fy_year=2002, d_fy_quarter_seq=409, d_fy_week_seq=5324, d_day_name=u'Sunday', d_quarter_name=u'2002Q1', d_holiday=u'N', d_weekend=u'N', d_following_holiday=u'N', d_first_dom=2452276, d_last_dom=2452275, d_same_day_ly=2451923, d_same_day_lq=2452196, d_current_day=u'N', d_current_week=u'N', d_current_month=u'N', d_current_quarter=u'N', d_current_year=u'N'), c_current_household_demographics=Row(hd_income_band_sk=9, hd_buy_potential=u'>10000', hd_dep_count=8, hd_vehicle_count=-1, hd_income_band=Row(ib_lower_bound=80001, ib_upper_bound=90000), hd_income_band_sk_row_num=1)), ss_sold_date_sk=2450816, ss_sold_date_sk_ss_ticket_number=u'2450816-247190210')\n",
      "Row(ss_customer_sk=None, ss_addr_sk=32832, ss_item_sk=164420, ss_hdemo_sk=None, ss_promo_sk=None, ss_store_sk=424, ss_sold_time_sk=None, ss_cdemo_sk=None, ss_ticket_number=1648159612, ss_quantity=None, ss_wholesale_cost=38.33, ss_list_price=63.24, ss_sales_price=46.79, ss_ext_discount_amt=0.0, ss_ext_sales_price=2573.45, ss_ext_wholesale_cost=2108.15, ss_ext_list_price=3478.2, ss_ext_tax=None, ss_coupon_amt=0.0, ss_net_paid=2573.45, ss_net_paid_inc_tax=None, ss_net_profit=465.3, ss_customer_demographics=None, ss_date_dim=Row(d_date_id=u'AAAAAAAAAIFGFCAA', d_date=datetime.datetime(1998, 1, 2, 0, 0), d_month_seq=1176, d_week_seq=5114, d_quarter_seq=393, d_year=1998, d_dow=5, d_moy=1, d_dom=2, d_qoy=1, d_fy_year=1998, d_fy_quarter_seq=393, d_fy_week_seq=5114, d_day_name=u'Friday', d_quarter_name=u'1998Q1', d_holiday=u'N', d_weekend=u'Y', d_following_holiday=u'Y', d_first_dom=2450815, d_last_dom=2450814, d_same_day_ly=2450451, d_same_day_lq=2450724, d_current_day=u'N', d_current_week=u'N', d_current_month=u'N', d_current_quarter=u'N', d_current_year=u'N'), ss_time_dim=None, ss_store=Row(s_closed_date_sk=None, s_store_id=u'AAAAAAAAIKBAAAAA', s_rec_start_date=datetime.datetime(1997, 3, 13, 0, 0), s_rec_end_date=datetime.datetime(1999, 3, 13, 0, 0), s_store_name=u'ese', s_number_employees=274, s_floor_space=5812143, s_hours=u'8AM-4PM', s_manager=u'Brandon Moore', s_market_id=6, s_geography_class=u'Unknown', s_market_desc=u'Balls might not go much with a benefits. Systems cannot keep long, complete events. Direct', s_market_manager=u'Jose Braun', s_division_id=1, s_division_name=u'Unknown', s_company_id=1, s_company_name=u'Unknown', s_street_number=u'950', s_street_name=u'Willow ', s_street_type=u'Drive', s_suite_number=u'Suite 110', s_city=u'Georgetown', s_county=u'Lea County', s_state=u'NM', s_zip=u'87057', s_country=u'United States', s_gmt_offset=-7.0, s_tax_precentage=0.03, s_closed_date=None), ss_promotion=None, ss_household_demographics=None, ss_item=Row(i_item_id=u'AAAAAAAAEECICAAA', i_rec_start_date=datetime.datetime(1997, 10, 27, 0, 0), i_rec_end_date=datetime.datetime(2000, 10, 26, 0, 0), i_item_desc=u'Join', i_current_price=4.09, i_wholesale_cost=3.14, i_brand_id=9009009, i_brand=u'maximaxi #9', i_class_id=9, i_class=u'science', i_category_id=9, i_manufact_id=353, i_manufact=u'priantipri', i_size=u'N/A', i_formulation=u'papaya40672439707438', i_color=u'lime', i_units=u'Pallet', i_container=u'Unknown', i_manager_id=34, i_product_name=u'barableeseesecallyought', i_category=u'Books'), ss_customer_address=Row(ca_address_id=u'AAAAAAAAAEAIAAAA', ca_street_number=None, ca_street_name=u'Center Meadow', ca_street_type=None, ca_suite_number=u'Suite I', ca_city=None, ca_county=u'Miami County', ca_state=u'OH', ca_zip=None, ca_country=None, ca_gmt_offset=-5.0, ca_location_type=u'single family'), ss_customer=None, ss_sold_date_sk=2450816, ss_sold_date_sk_ss_ticket_number=u'2450816-1648159612')"
     ]
    }
   ],
   "source": [
    "for rec in df_to_ddb.take(5):\n",
    "    print(rec)"
   ]
  },
  {
   "cell_type": "code",
   "execution_count": 9,
   "metadata": {},
   "outputs": [
    {
     "data": {
      "application/vnd.jupyter.widget-view+json": {
       "model_id": "8a2f7b75338f4850a350414a02bb5a13",
       "version_major": 2,
       "version_minor": 0
      },
      "text/plain": [
       "VBox()"
      ]
     },
     "metadata": {},
     "output_type": "display_data"
    },
    {
     "data": {
      "application/vnd.jupyter.widget-view+json": {
       "model_id": "4ae640c32d6f4a96a29c8e6262b5da4d",
       "version_major": 2,
       "version_minor": 0
      },
      "text/plain": [
       "FloatProgress(value=0.0, bar_style='info', description='Progress:', layout=Layout(height='25px', width='50%'),…"
      ]
     },
     "metadata": {},
     "output_type": "display_data"
    },
    {
     "name": "stderr",
     "output_type": "stream",
     "text": [
      "An error was encountered:\n",
      "Invalid status code '400' from https://10.0.1.199:18888/sessions/9/statements/8 with error payload: {\"msg\":\"requirement failed: Session isn't active.\"}\n"
     ]
    }
   ],
   "source": [
    "df_to_ddb.repartition(1024, 'ss_sold_date_sk_ss_ticket_number').write.option('tableName', 'store_sales').format('dynamodb').save()"
   ]
  },
  {
   "cell_type": "code",
   "execution_count": null,
   "metadata": {},
   "outputs": [],
   "source": []
  }
 ],
 "metadata": {
  "kernelspec": {
   "display_name": "PySpark",
   "language": "",
   "name": "pysparkkernel"
  },
  "language_info": {
   "codemirror_mode": {
    "name": "python",
    "version": 2
   },
   "mimetype": "text/x-python",
   "name": "pyspark",
   "pygments_lexer": "python2"
  }
 },
 "nbformat": 4,
 "nbformat_minor": 4
}
